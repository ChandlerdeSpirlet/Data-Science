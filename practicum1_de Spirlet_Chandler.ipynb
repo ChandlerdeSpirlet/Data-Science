{
 "cells": [
  {
   "cell_type": "markdown",
   "metadata": {},
   "source": [
    "<a id='top'></a>\n",
    "\n",
    "# CSCI 3022: Intro to Data Science - Spring 2020 Practicum 1\n",
    "***\n",
    "\n",
    "This practicum is due on Canvas by **11:59 PM on Monday March 2**. Your solutions to theoretical questions should be done in Markdown/MathJax directly below the associated question.  Your solutions to computational questions should include any specified Python code and results as well as written commentary on your conclusions.  \n",
    "\n",
    "**Here are the rules:** \n",
    "\n",
    "1. All work, code and analysis, must be your own. \n",
    "1. You may use your course notes, posted lecture slides, textbooks, in-class notebooks, and homework solutions as resources.  You may also search online for answers to general knowledge questions like the form of a probability distribution function or how to perform a particular operation in Python/Pandas. \n",
    "1. This is meant to be like a coding portion of your midterm exam. So, the instructional team will be much less helpful than we typically are with homework. For example, we will not check answers, help debug your code, and so on.\n",
    "1. If something is left open-ended, it is because we want to see how you approach the kinds of problems you will encounter in the wild, where it will not always be clear what sort of tests/methods should be applied. Feel free to ask clarifying questions though.\n",
    "2. You may **NOT** post to message boards or other online resources asking for help.\n",
    "3. You may **NOT** copy-paste solutions *from anywhere*.\n",
    "4. You may **NOT** collaborate with classmates or anyone else.\n",
    "5. In short, **your work must be your own**. It really is that simple.\n",
    "\n",
    "Violation of the above rules will result in an immediate academic sanction (*at the very least*, you will receive a 0 on this practicum or an F in the course, depending on severity), and a trip to the Honor Code Council.\n",
    "\n",
    "**By submitting this assignment, you agree to abide by the rules given above.**\n",
    "\n",
    "***\n",
    "\n",
    "**Name**: Chandler de Spirlet\n",
    "\n",
    "***\n",
    "\n",
    "\n",
    "**NOTES**: \n",
    "\n",
    "- You may not use late days on the practicums nor can you drop your practicum grades. \n",
    "- If you have a question for us, post it as a **PRIVATE** message on Piazza.  If we decide that the question is appropriate for the entire class, then we will add it to a Practicum clarifications thread. \n",
    "- Do **NOT** load or use any Python packages that are not available in Anaconda 3.6. \n",
    "- Some problems with code may be autograded.  If we provide a function API **do not** change it.  If we do not provide a function API then you're free to structure your code however you like. \n",
    "- Submit only this Jupyter notebook to Canvas.  Do not compress it using tar, rar, zip, etc. \n",
    "- This should go without saying, but... For any question that asks you to calculate something, you **must show all work to receive credit**. Sparse or nonexistent work will receive sparse or nonexistent credit.\n",
    "\n",
    "---\n"
   ]
  },
  {
   "cell_type": "code",
   "execution_count": 22,
   "metadata": {},
   "outputs": [],
   "source": [
    "from scipy import stats\n",
    "import numpy as np \n",
    "import pandas as pd\n",
    "import matplotlib.pyplot as plt\n",
    "%matplotlib inline"
   ]
  },
  {
   "cell_type": "markdown",
   "metadata": {},
   "source": [
    "<br>\n",
    "\n",
    "\n",
    "\n",
    "### [30 points] Problem 1: Gambling With A Peg Legged Pirate:"
   ]
  },
  {
   "cell_type": "markdown",
   "metadata": {},
   "source": [
    "You're a time traveling data scientist, and have traveled way back to the year 1654. Immediately upon arriving you're picked up by a bunch of pirates, and made to join a pirate crew. When the pirates realize that you're immensely knowledgable about probabilities and statistics, they promote you to be their captain! You rename the ship to be the \"Certain Probability of Death\", and set out upon the high seas. After a few days of sailing you come upon another band of buccaneers in their ship. Their captain, Peg Leg Pascal Fermat, challanges you to a gambling game, but you're not sure if you should play it. The rules for the game are below:\n",
    "\n",
    "* You and Peg Leg Pascal Fermat will take turns repeatedly rolling a 20 sided die. The die has values 1 - 20 on it.\n",
    "\n",
    "\n",
    "* **On your turn, the rules are as follows:**\n",
    "1. If you roll the same value as what Peg Leg Pascal Fermat rolled on his last turn, you have to give him 5 dubloons. Do not perform any additional actions from the below list of rules if you rolled the same value as what Peg Leg Pascal Fermat rolled on his last turn. Otherwise:\n",
    "2. If you roll an 8, Peg Leg Pascal Fermat will give you two gold dubloons.\n",
    "3. If you roll a 7, Peg Leg Pascal Fermat will give you four gold dubloon.\n",
    "4. If you roll a 15, you have to give Peg Leg Pascal Fermat one dubloon. \n",
    "5. If you roll a 1, the game ends.\n",
    "6. If you roll any other value, nothing happens. \n",
    "\n",
    "\n",
    "* **On Peg Leg Pascal Fermat's turn the rules are as follows:**\n",
    "1. If Peg Leg Pascal Fermat rolls the same number as you did on your last turn, he then rolls a different 19 sided die. When he rolls again, if he rolls a 19, **you must pay him** 100 dubloons. If he rolls anything other than a 19, **he must pay you** the same number of dubloons as the value of the roll. E.g. If he rolls a 10, he gives you 10 dubloons, but if he rolls a 19 you give him 100 dubloons. When he rolls again, he does not perform any other rules from the below list.\n",
    "2. If Peg Leg Pascal Fermat rolls a 2, he must give you one gold dubloon.\n",
    "3. If Peg Leg Pascal Fermat rolls a 14, you must give him two dubloons.\n",
    "4. If Peg leg Pascal Fermat rolls a 17, you must give him three dubloons.\n",
    "5. If Peg Leg Pascal Fermat rolls a 1, the game ends.\n",
    "\n",
    "6. If Peg Leg Pascal Fermat rolls a 3, he takes off his peg leg, and gives you the leg. Who knows... Maybe it will be usefull if you lose your leg? \n",
    "7. If Peg Leg Pascal Fermat rolls a 3 and he has already given you his peg leg, he must give you 3 dubloons. \n",
    "8. If he rolls any other values, nothing happens.\n",
    "<img src=\"data:image/jpeg;base64,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\" style=\"width: 150px;\"/>"
   ]
  },
  {
   "cell_type": "markdown",
   "metadata": {},
   "source": [
    "**Part A:** Without doing any extensive math or simulations, predict whether this game will result in your making or loosing money. Would you play it? Any logical non-empty answer will get credit here, so don't worry about if your prediction is actually right."
   ]
  },
  {
   "cell_type": "markdown",
   "metadata": {},
   "source": [
    "I would play this game because, in most instances, either no dubloons are being transferred or I am being paid. There is the instance of oweing 100 dubloons, but that has a smaller probability."
   ]
  },
  {
   "cell_type": "markdown",
   "metadata": {},
   "source": [
    "**Part B:** Luckily, when you time traveled back to 1654, you brought your laptop with you! Use Python to simulate 10,000 games following the above rules. Record your winnings or losings for each game in an array. Record the games in which you lost money with a negative value (amount you lost), and games in which you won money with a positive value (amount you won). Assume you always go first. You may write multiple functions or use multiple jupyter notebook cells to write your code, how you structure it is up to you. You may use any Numpy or Pandas functions you find useful, but may not import any additional libraries. Calculate the median amount you win or lose, and report it in markdown below. Based on the median value, would you play the game?"
   ]
  },
  {
   "cell_type": "code",
   "execution_count": 2,
   "metadata": {},
   "outputs": [
    {
     "name": "stdout",
     "output_type": "stream",
     "text": [
      "The median of 10,000 games is 641.0\n"
     ]
    }
   ],
   "source": [
    "die_20 = np.array([1,2,3,4,5,6,7,8,9,10,11,12,13,14,15,16,17,18,19,20])\n",
    "die_19 = np.array([1,2,3,4,5,6,7,8,9,10,11,12,13,14,15,16,17,18,19])\n",
    "\n",
    "def my_turn(his_roll):\n",
    "    my_roll = np.random.choice(die_20)\n",
    "    my_money = 0\n",
    "    if (my_roll == his_roll):\n",
    "        my_money -= 5\n",
    "        return my_money, my_roll\n",
    "    if (my_roll == 8 ):\n",
    "        my_money += 2\n",
    "        return my_money, my_roll\n",
    "    if (my_roll == 7):\n",
    "        my_money += 4\n",
    "        return my_money, my_roll\n",
    "    if (my_roll == 15):\n",
    "        my_money -= 1\n",
    "        return my_money, my_roll\n",
    "    if (my_roll == 1):\n",
    "        return my_money, my_roll\n",
    "    else:\n",
    "        return my_money, my_roll\n",
    "\n",
    "def peg_leg(my_roll, has_leg):\n",
    "    his_roll = np.random.choice(die_20)\n",
    "    my_money = 0\n",
    "    if (his_roll == my_roll):\n",
    "        his_roll = np.random.choice(die_19)\n",
    "        if (his_roll == 19):\n",
    "            my_money -= 100\n",
    "        else:\n",
    "            my_money += his_roll\n",
    "        return my_money, his_roll, has_leg\n",
    "    if (his_roll == 2):\n",
    "        my_money += 1\n",
    "        return my_money, his_roll, has_leg\n",
    "    if (his_roll == 14):\n",
    "        my_money -= 2\n",
    "        return my_money, his_roll, has_leg\n",
    "    if (his_roll == 17):\n",
    "        my_money -= 3\n",
    "        return my_money, his_roll, has_leg\n",
    "    if (his_roll == 1):\n",
    "        return my_money, his_roll, has_leg\n",
    "    if (his_roll == 3):\n",
    "        if (has_leg == True):\n",
    "            has_leg = False\n",
    "        else:\n",
    "            my_money += 3\n",
    "        return my_money, his_roll, has_leg\n",
    "    else:\n",
    "        return my_money, his_roll, has_leg\n",
    "\n",
    "def play_games():\n",
    "    my_money_list = np.zeros(shape=(10000))\n",
    "    for x in range(0, 10000):\n",
    "        his_roll = 0\n",
    "        my_roll = 0\n",
    "        my_money = 0\n",
    "        has_leg = True\n",
    "        while((his_roll != 1) or (my_roll != 1)):\n",
    "            init_my_money, my_roll = my_turn(his_roll)\n",
    "            my_money += init_my_money\n",
    "            init_my_money, his_roll, has_leg = peg_leg(my_roll, has_leg)\n",
    "            my_money += init_my_money\n",
    "        my_money_list[x] = my_money\n",
    "    return(my_money_list)\n",
    "tot_game_money = play_games()\n",
    "print(\"The median of 10,000 games is {}\".format(np.median(tot_game_money)))"
   ]
  },
  {
   "cell_type": "markdown",
   "metadata": {},
   "source": [
    "Based on the Median value, I would play this game. (The median value, upon different simulations, has been positive and ranging from 500 to 1000. I have the above simulation print the median of 10,000 games)."
   ]
  },
  {
   "cell_type": "markdown",
   "metadata": {},
   "source": [
    "**Part C:** Calculate a Tukey 5 Number Summary and the mean value for your array of simulated winnings/losings. Based on this information would you play the game? Are any of these metrics more useful than others? Which metrics would be important if we were deciding to play a single game? Which would be more important if we were deciding to play a very large number of games? "
   ]
  },
  {
   "cell_type": "code",
   "execution_count": 16,
   "metadata": {},
   "outputs": [
    {
     "name": "stdout",
     "output_type": "stream",
     "text": [
      "5-Number Summary: -1173.00, 194.00, 641.00, 1378.00, 8378.00\n",
      "The mean value is: 951.797\n"
     ]
    }
   ],
   "source": [
    "minval = min(tot_game_money)\n",
    "maxval = max(tot_game_money)\n",
    "Q1 = np.quantile(tot_game_money, 0.25)\n",
    "Q2 = np.quantile(tot_game_money, 0.5)\n",
    "Q3 = np.quantile(tot_game_money, 0.75)\n",
    "mean_val = np.mean(tot_game_money)\n",
    "print(\"5-Number Summary: {:.2f}, {:.2f}, {:.2f}, {:.2f}, {:.2f}\".format(minval, Q1, Q2, Q3, maxval))\n",
    "print(\"The mean value is: {}\".format(mean_val))"
   ]
  },
  {
   "cell_type": "markdown",
   "metadata": {},
   "source": [
    "I would play the game considering that the Q1 value is positive. This would inidicate a high change of making money."
   ]
  },
  {
   "cell_type": "markdown",
   "metadata": {},
   "source": [
    "**Part D:** After seeing the numbers in **Part C**, we decide to play a few games with Peg Leg Pascal Fermat (You might want to double check you simulation in **Part B** if the mean value doesn't come out slightly positive in **Part C**). You play 10 rounds and it seems like he might be cheating. You just can't win, and you're losing a ton of money! Maybe Peg Leg Pascal Fermat has a loaded die. However, you've found a .csv file buried in the sand. It has the winnings and losings of another player who was playing the same game against Peg Leg Pascal Fermat. We'll use this information to figure out if he is cheating. Read in the file`Pascal_Fermat_Games.csv`. Each row contains the results of a game that another player played against Peg Leg Pascal Fermat. It's a little bit dirty (after all this .csv was buried in the sand). Perform the following cleaning tasks:\n",
    "1. Read in the .csv. If you have any trouble reading in the file, open it in a text editor and take a look at it. You might find the pandas documentation for the `read_csv` function and some of the optional arguments useful. \n",
    "2. Look at the two columns. One of them is useless. Drop the useless one.\n",
    "3. Drop any strings of non-integer data.\n",
    "3. Check to see if any of our values are floating point values. If there are any, drop them. \n",
    "5. Drop any values that are over 1000 or under -1000. \n",
    "6. Print the number of rows remaining.\n",
    "\n",
    "After doing all that, you should have 9661 rows of data left."
   ]
  },
  {
   "cell_type": "code",
   "execution_count": 4,
   "metadata": {},
   "outputs": [
    {
     "name": "stdout",
     "output_type": "stream",
     "text": [
      "The total row count for 'Winnings' is 9661\n"
     ]
    }
   ],
   "source": [
    "file_path = 'Pascal_Fermat_Games.csv'\n",
    "df = pd.read_csv(file_path, sep=\";\")\n",
    "df.head()\n",
    "df['Winnings'] = df['Winnings'].str.replace(r'[A-z!@#$%^&*()]', '', regex=True)\n",
    "df['Winnings'] = df['Winnings'].str.replace(r'[-]?[0-9]*[.][0-9]*', '', regex=True)\n",
    "df['Winnings'].replace('', np.nan, inplace=True)\n",
    "df['Winnings'].replace(' ', np.nan, inplace=True)\n",
    "df.dropna(subset=['Winnings'], inplace=True)\n",
    "df['Winnings'] = df['Winnings'].astype(int)\n",
    "df.drop(df.loc[df['Winnings'] > 1000].index, inplace=True)\n",
    "df.drop(df.loc[df['Winnings'] < -1000].index, inplace=True)\n",
    "print(\"The total row count for 'Winnings' is {}\".format(df['Winnings'].count()))"
   ]
  },
  {
   "cell_type": "markdown",
   "metadata": {},
   "source": [
    "**Part E:** Create a density histogram with both our siumulated data and our data from the `Pascal_Fermat_Games.csv` file overlayed on the same set of axes. Ensure your plot is legible and contains all of the common labels/titles/etc. Make sure you use enough bins to make the data easly visible. To make the graph easy to read, it's fine to limit the x range to avoid showing large areas with very few occurances of data. This problem will largely be graded based on how nice and easy to interpret your plot is, so do your best.\n",
    "\n",
    "One Annoying thing about matplotlib is how small the font on the titles/axis labels/etc. Do some googling and figure out how to change the matplotlib font sizes. ***CITE YOUR SOURCES IF YOU USE ANYTHING OTHER THAN THE MATPLOTLIB DOCUMENTATION PAGES.***. Change the axes label font to be 14pt, the x-tick and y-tick font to be 8pt, the title font to be 16pt, and the legend font to be 12pt. Isn't that nicer? "
   ]
  },
  {
   "cell_type": "code",
   "execution_count": 5,
   "metadata": {},
   "outputs": [
    {
     "data": {
      "text/plain": [
       "<matplotlib.legend.Legend at 0x1301d5390>"
      ]
     },
     "execution_count": 5,
     "metadata": {},
     "output_type": "execute_result"
    },
    {
     "data": {
      "image/png": "[encoded data removed]",
      "text/plain": [
       "<Figure size 576x576 with 1 Axes>"
      ]
     },
     "metadata": {
      "needs_background": "light"
     },
     "output_type": "display_data"
    }
   ],
   "source": [
    "# Initialize figure subplots\n",
    "dfSim = pd.DataFrame(tot_game_money,columns=['SimWinnings'])\n",
    "dfSim['SimWinnings'] = dfSim['SimWinnings'].astype(int)\n",
    "\n",
    "fig, axes = plt.subplots(nrows=1, ncols=1, figsize=(8,8))\n",
    "my_bins = range(-500,200,10)\n",
    "df.hist(column=\"Winnings\", ax=axes, facecolor=\"blue\", edgecolor=\"white\", density=True, bins=my_bins, label='.CSV file', alpha=0.5)\n",
    "dfSim.hist(column=\"SimWinnings\", ax=axes, facecolor=\"red\", edgecolor=\"white\", density=True, bins=my_bins, label='Simulation', alpha=0.5)\n",
    "\n",
    "# Add titles and labels \n",
    "axes.set_title(\"Distribution of Simulation and .CSV File Data\", fontsize=16)\n",
    "axes.set_xlabel(\"Money Won\", fontsize=14)\n",
    "axes.set_ylabel(\"Density\", fontsize=14)\n",
    "\n",
    "# Make grid lighter and set behind data\n",
    "axes.grid(alpha=0.25)\n",
    "axes.set_axisbelow(True)\n",
    "plt.xticks(fontsize=8)\n",
    "plt.yticks(fontsize=8)                           \n",
    "fig.subplots_adjust(hspace=.5)\n",
    "fig.legend(loc='upper right', fontsize=12)\n"
   ]
  },
  {
   "cell_type": "markdown",
   "metadata": {},
   "source": [
    "**Part F:** Print out the Tukey 5 number summary of the data from the .csv file. Based on this and the histogram above, make an argument as to whether Peg Leg Pascal Fermat is cheating or not."
   ]
  },
  {
   "cell_type": "code",
   "execution_count": 6,
   "metadata": {},
   "outputs": [
    {
     "data": {
      "text/plain": [
       "count    9661.000000\n",
       "mean      -15.747956\n",
       "std        52.943518\n",
       "min      -476.000000\n",
       "25%       -11.000000\n",
       "50%         0.000000\n",
       "75%         9.000000\n",
       "max       162.000000\n",
       "Name: Winnings, dtype: float64"
      ]
     },
     "execution_count": 6,
     "metadata": {},
     "output_type": "execute_result"
    }
   ],
   "source": [
    "df[\"Winnings\"].describe()"
   ]
  },
  {
   "cell_type": "markdown",
   "metadata": {},
   "source": [
    "Based on the Tukey 5 number summary of the .csv file and the above histogram, it does appear as if Peg Leg Pascal Fermat is cheating. The 5 number summary shows that the mean value is negative, indicating he wins on average. The median is also 0, and the Q3 value is barely positive. This indicates a left skew."
   ]
  },
  {
   "cell_type": "markdown",
   "metadata": {},
   "source": [
    "**Part G:** In this problem you were transported back to the year 1654. Find out why the year 1654 is important in the fields of mathematics and data science. "
   ]
  },
  {
   "cell_type": "markdown",
   "metadata": {},
   "source": [
    "The year 1654 is important in the field of mathematics and data science because Blaise Pascal and Pierre de Fermat worked together from which the theory of probability was born. Jacob Bernoulli was also born."
   ]
  },
  {
   "cell_type": "markdown",
   "metadata": {},
   "source": [
    "<br>\n",
    "\n",
    "---\n",
    "[Back to top](#top)\n",
    "<a id='p2'></a>\n",
    "\n",
    "### [30 points] Problem 2: Sonic or Tails?"
   ]
  },
  {
   "cell_type": "markdown",
   "metadata": {},
   "source": [
    "<img src=\"http://www.cs.colorado.edu/~tonyewong/home/resources/hedgehog_coin.jpg\" style=\"width: 500px;\"/>"
   ]
  },
  {
   "cell_type": "markdown",
   "metadata": {},
   "source": [
    "In the file `flipadelphia.csv` you will find the results of an experiment that was conducted by Amy, the famous hedgehog data scientist, as she was flipping a coin one sunny day in a meadow. This is no ordinary coin, however: this coin has on one side Sonic, and on the other side Tails! The two sides of this coin are above, and at [this link](http://www.cs.colorado.edu/~tonyewong/home/resources/hedgehog_coin.jpg).\n",
    "\n",
    "In Amy's experiment she repeatedly flipped the coin until it came up Sonic. After each trial, she recorded her observed value for $X=$ the number of flips required to see the first Sonic. The results are stored in `flipadelphia.csv`.\n",
    "\n",
    "Amy has a lot of coins for performing cool data science experiments, and these coins have different biases (not all unique). Amy is a forgetful hedgehog, so she isn't sure which coin she was flipping. Her coins have biases of $p_S=.2, .3, .4, .5, .6, .7$ and $.8$, where $p_S$ is the probability of any given flip coming up Sonic."
   ]
  },
  {
   "cell_type": "markdown",
   "metadata": {},
   "source": [
    "**Part A:** Read in the data set and make a frequency histogram of the data. Be sure to label your axes appropriately, and center your bins above the integer numbers of flips (0, 1, 2, etc...). What is the name of the distribution for the random variable that Amy observed and recorded in her data table?"
   ]
  },
  {
   "cell_type": "code",
   "execution_count": 2,
   "metadata": {},
   "outputs": [
    {
     "data": {
      "image/png": "[encoded data removed]",
      "text/plain": [
       "<Figure size 576x288 with 1 Axes>"
      ]
     },
     "metadata": {
      "needs_background": "light"
     },
     "output_type": "display_data"
    }
   ],
   "source": [
    "file_path = 'flipadelphia.csv'\n",
    "df = pd.read_csv(file_path)\n",
    "\n",
    "fig, ax = plt.subplots(figsize=(8,4))\n",
    "my_bins = range(0,8,1)\n",
    "# Plot histogram with custom colors\n",
    "mycolor = 'blue'\n",
    "df.hist(column=\"1\", ax=ax, bins=my_bins, facecolor=mycolor, edgecolor=\"black\")\n",
    "\n",
    "# Add a title\n",
    "ax.set_title(\"Frequency of Number of Flips to See Sonic\", fontsize=20)\n",
    "\n",
    "# Add axis labels \n",
    "ax.set_xlabel(\"Flips to See Sonic\", fontsize=16)\n",
    "ax.set_ylabel(\"Frequency\", fontsize=16)\n",
    "\n",
    "# Make the grid lines lighter and put them behind data \n",
    "ax.grid(alpha=0.25)\n",
    "ax.set_axisbelow(True)\n"
   ]
  },
  {
   "cell_type": "markdown",
   "metadata": {},
   "source": [
    "The name of the distribution that was recorded is a geometric distribution. It is a geometric distribution because we are counting the number of flips required to find a Sonic."
   ]
  },
  {
   "cell_type": "markdown",
   "metadata": {},
   "source": [
    "**Part B:** Use the distribution that you identified in Part A to determine $P(X=n \\mid p_S=0.5)$, the probability that Amy would observe the first Sonic flip on the $n$-th flip, assuming that the coin is fair ($p_S=0.5$), for each of the $n$ from her 10 trials in her data set. Then, combine these to find the overall *likelihood* that she would observe her entire data set, assuming that the coin was fair. That is, estimate $P(\\text{data} \\mid p_S=0.5)$. Be sure to note any assumptions you make about how the outcome of one trial relates to the outcomes of the others.\n",
    "\n",
    "If it helps to have some mathematical notation, consider that Amy's data set consists of the results of all 10 of her trials: $$\\text{data} = (X_1 = n_1) \\cap (X_2 = n_2) \\cap \\ldots (X_{10} = n_{10})$$"
   ]
  },
  {
   "cell_type": "code",
   "execution_count": 5,
   "metadata": {},
   "outputs": [
    {
     "name": "stdout",
     "output_type": "stream",
     "text": [
      "[0.5        0.25       0.125      0.0625     0.03125    0.015625\n",
      " 0.0078125  0.00390625 0.00195312 0.00097656]\n",
      "Calulating P(data | ps = 0.5) as p(X1 = n1) * p(X2 = n2) * ... * p(X10 = n10)\n",
      "Assuming that the events are independent of each other, P(data | ps = 0.5) = 2.7755575615628914e-17\n"
     ]
    }
   ],
   "source": [
    "#Geometric Distribution: ((1-p)^(k-1))*p\n",
    "data = np.zeros(shape=(10))\n",
    "for x in range(0, 10):\n",
    "    geom = ((1 - 0.5) ** ((x + 1) - 1)) * 0.5\n",
    "    data[x] = geom\n",
    "mult = 1\n",
    "for x in data:\n",
    "    mult *= x\n",
    "print(\"Calulating P(data | ps = 0.5) as p(X1 = n1) * p(X2 = n2) * ... * p(X10 = n10)\")\n",
    "print(\"Assuming that the events are independent of each other, P(data | ps = 0.5) = {}\".format(mult))"
   ]
  },
  {
   "cell_type": "markdown",
   "metadata": {},
   "source": [
    "I assume that the events are independent of each other because flipping the coin to find  to probability of getting Sonic on the first try is independent of flipping the coin to get Sonic on the second flip, and so on."
   ]
  },
  {
   "cell_type": "markdown",
   "metadata": {},
   "source": [
    "**Part C:** Suppose before we observed Amy's data set, we believe that each of the seven possible coin biases occur with equal probability, $P(p_S)$. This is called the _prior distribution_ for the coin bias, $p_S$, because we have not yet taken into account Amy's data set.\n",
    "* Now, estimate the probability of each possible bias, given the data: $P(p_S \\mid \\text{data})$.  This is called the _posterior distribution_ for the coin bias, because it is our assessment of the coin's bias _after_ we have accounted for Amy's data.\n",
    "* Make a line plot of the bias along x-axis versus the posterior probability of that bias along the y-axis, and be sure to label your axes. \n",
    "* Comment on your plot. What appears to be the most probable value for the bias, $p_S$? This is called the _maximum a posteriori_ estimate, because it maximizes the posterior distribution and sounds very, *very* fancy."
   ]
  },
  {
   "cell_type": "code",
   "execution_count": 18,
   "metadata": {},
   "outputs": [
    {
     "data": {
      "text/plain": [
       "Text(0.5, 1.0, 'Coin Bias vs Posterior Probability')"
      ]
     },
     "execution_count": 18,
     "metadata": {},
     "output_type": "execute_result"
    },
    {
     "data": {
      "image/png": "[encoded data removed]",
      "text/plain": [
       "<Figure size 432x288 with 1 Axes>"
      ]
     },
     "metadata": {
      "needs_background": "light"
     },
     "output_type": "display_data"
    }
   ],
   "source": [
    "#P(ps|data) = \n",
    "#ps = (.2, .3, .4, .5, .6, .7, .8)\n",
    "row_list =[] \n",
    "for index, rows in df.iterrows():  \n",
    "    row_list.append(rows[\"1\"])\n",
    "\n",
    "def dataPS(prob):\n",
    "    list_of_probs = []\n",
    "    temp_arr = []\n",
    "    mult = 1\n",
    "    for x in row_list:\n",
    "        geom = ((1 - prob) ** ((x + 1) - 1)) * prob\n",
    "        mult *= geom\n",
    "    return mult\n",
    "\n",
    "ps = [.2, .3, .4, .5, .6, .7, .8]\n",
    "list_of_probs = []\n",
    "for x in ps:\n",
    "    list_of_probs.append(dataPS(x))\n",
    "\n",
    "plt.plot(ps, list_of_probs)\n",
    "plt.xlabel('Coin Bias')\n",
    "plt.ylabel('Posterior Probability')\n",
    "plt.title('Coin Bias vs Posterior Probability')"
   ]
  },
  {
   "cell_type": "markdown",
   "metadata": {},
   "source": [
    "The most probable coin bias appears to be 0.3"
   ]
  },
  {
   "cell_type": "markdown",
   "metadata": {},
   "source": [
    "**Part D:** Now suppose the prior probability distribution of the coins is not uniform. Namely, suppose these probabilities follow a ***triangular distribution***, centered at $p_S=0.5$:\n",
    "$$P(p_S = p) = \\begin{cases} mp & p \\leq 0.5 \\\\ m(1-p) & p > 0.5 \\end{cases}$$\n",
    "\n",
    "Determine what value the constant $m$ should have in order to make $P(p_S = p)$ is a valid probability mass function. Remember, $p_S \\in \\{.2, .3, \\ldots , .7, .8\\}$ and is discrete."
   ]
  },
  {
   "cell_type": "markdown",
   "metadata": {},
   "source": [
    "$$pmf = \\sum\\limits_{p=0.2}^{0.5} mp + \\sum\\limits_{p=0.6}^{0.8} m(1 - p)$$\n",
    "$$pmf = m\\sum\\limits_{p=0.2}^{0.5} p + m\\sum\\limits_{p=0.6}^{0.8} (1 - p)$$\n",
    "$$pmf = m(0.2 + 0.3 + 0.4 + 0.5) + m((1 - 0.6) + (1 - 0.7) + (1 - 0.8))$$\n",
    "$$pmf = m(1.4) + m(0.9)$$\n",
    "$$pmf = m(1.4 + 0.9)$$\n",
    "$$1 = 2.3m$$\n",
    "$$pmf = 0.4348$$"
   ]
  },
  {
   "cell_type": "markdown",
   "metadata": {},
   "source": [
    "**Part E:** Compare, using words, the triangular prior distribution (this part) and the uniform prior distribution (from Part C).  What does each represent in terms of our _prior_ knowledge of the coin bias?"
   ]
  },
  {
   "cell_type": "markdown",
   "metadata": {},
   "source": [
    "The uniform prior distribution represents our knowledge of what the most probable bias is from our prior knowledge. The triangular prior distribution shows us what the most probable bias is given that the distribution is not uniform."
   ]
  },
  {
   "cell_type": "markdown",
   "metadata": {},
   "source": [
    "**Part F:** Modify your calculation of the posterior distribution from Part C to use the new triangular prior distribution from Part D. Make a plot of the results that includes both posterior distribution using the uniform prior (from Part C) and the posterior distribution using the triangular prior (from Part D) in the same figure panel. Be sure to label your axes and include a legend."
   ]
  },
  {
   "cell_type": "code",
   "execution_count": 19,
   "metadata": {},
   "outputs": [
    {
     "name": "stdout",
     "output_type": "stream",
     "text": [
      "[3.84283266258989e-11, 5.049952537568405e-10, 2.1758658205575353e-09, 4.934150773777572e-09, 2.1758658205575353e-09, 5.049952537568412e-10, 3.842832662589889e-11]\n"
     ]
    }
   ],
   "source": [
    "def get_ps(ps):\n",
    "    if (ps <= 0.5):\n",
    "        return (ps * 0.4348)\n",
    "    else:\n",
    "        return (0.4348 * (1 - ps))\n",
    "\n",
    "list_of_probs_partd = []\n",
    "for x in ps:\n",
    "    list_of_probs_partd.append(dataPS(get_ps(x)))\n",
    "print(list_of_probs_partd)"
   ]
  },
  {
   "cell_type": "code",
   "execution_count": 21,
   "metadata": {},
   "outputs": [
    {
     "data": {
      "text/plain": [
       "<matplotlib.legend.Legend at 0x12dea3890>"
      ]
     },
     "execution_count": 21,
     "metadata": {},
     "output_type": "execute_result"
    },
    {
     "data": {
      "image/png": "[encoded data removed]",
      "text/plain": [
       "<Figure size 432x288 with 1 Axes>"
      ]
     },
     "metadata": {
      "needs_background": "light"
     },
     "output_type": "display_data"
    }
   ],
   "source": [
    "plt.plot(ps, list_of_probs, label='Uniform Distribution')\n",
    "plt.plot(ps, list_of_probs_partd, label='Triangular Distribution')\n",
    "plt.xlabel('Coin Bias')\n",
    "plt.ylabel('Posterior Probability')\n",
    "plt.title('Coin Bias vs Posterior Probability')\n",
    "plt.legend(loc='upper right')"
   ]
  }
 ],
 "metadata": {
  "kernelspec": {
   "display_name": "Python 3",
   "language": "python",
   "name": "python3"
  },
  "language_info": {
   "codemirror_mode": {
    "name": "ipython",
    "version": 3
   },
   "file_extension": ".py",
   "mimetype": "text/x-python",
   "name": "python",
   "nbconvert_exporter": "python",
   "pygments_lexer": "ipython3",
   "version": "3.7.4"
  }
 },
 "nbformat": 4,
 "nbformat_minor": 2
}
