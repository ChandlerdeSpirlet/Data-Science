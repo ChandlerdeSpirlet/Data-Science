{
 "cells": [
  {
   "cell_type": "markdown",
   "metadata": {},
   "source": [
    "<a id='top'></a>\n",
    "\n",
    "# Homework 1: Data Cleaning and Exploratory Data Analysis \n",
    "***\n",
    "\n",
    "**Name**: Chandler de Spirlet\n",
    "\n",
    "***\n",
    "\n",
    "This assignment is due on Canvas by **11:59 PM on Friday January 31**. Your solutions to theoretical questions should be done in Markdown directly below the associated question.  Your solutions to computational questions should include any specified Python code and results as well as written commentary on your conclusions.  Remember that you are encouraged to discuss the problems with your classmates, but **you must write all code and solutions on your own**.\n",
    "\n",
    "**NOTES**: \n",
    "\n",
    "- Any relevant data sets should be available under the **Data** module on Canvas. \n",
    "- If you're not familiar with typesetting math directly into Markdown then by all means, do your work on paper first and then typeset it later.  Remember that there is a [reference guide](https://math.meta.stackexchange.com/questions/5020/mathjax-basic-tutorial-and-quick-reference) linked on Canvas on writing math in Markdown. **All** of your written commentary, justifications and mathematical work should be in Markdown.\n",
    "- Because you can technically evaluate notebook cells is a non-linear order, it's a good idea to do Kernel $\\rightarrow$ Restart & Run All as a check before submitting your solutions.  That way if we need to run your code you will know that it will work as expected. \n",
    "- It is **bad form** to make your reader interpret numerical output from your code.  If a question asks you to compute some value from the data you should show your code output **AND** write a summary of the results in Markdown directly below your code. \n",
    "- This probably goes without saying, but... For any question that asks you to calculate something, you **must show all work and justify your answers to receive credit**. Sparse or nonexistent work will receive sparse or nonexistent credit. \n",
    "\n",
    "---\n",
    "**Shortcuts:**  [Problem 1](#p1) | [Problem 2](#p2) | [Problem 3](#p3) | [Problem 4](#p4) | [Problem 5](#p5) \n",
    "\n",
    "---"
   ]
  },
  {
   "cell_type": "code",
   "execution_count": 1,
   "metadata": {},
   "outputs": [],
   "source": [
    "import pandas as pd\n",
    "import numpy as np\n",
    "import matplotlib.pylab as plt\n",
    "from math import sqrt\n",
    "%matplotlib inline"
   ]
  },
  {
   "cell_type": "markdown",
   "metadata": {},
   "source": [
    "[Back to top](#top)\n",
    "\n",
    "<br>\n",
    "\n",
    "<a/ id='p1'></a>\n",
    "\n",
    "### (10 points) Problem 1\n",
    "***\n",
    "\n",
    "<img style=\"float: left; width: 200px; padding: 3mm;\" src=\"https://aquarium.org/wp-content/uploads/2015/08/Seahorse-female.jpg\" alt=\"Drawing\"/>  \n",
    "Poseidon is studying seahorses. Locations in each of the Atlantic, Pacific, Indian, Artic, and Southern Oceans are chosen to catch and release seahorses. After being caught, the seahorses are monitored for 24 hours while being fed organic, free-range plankton. The amount of plankton that each seahorse eats is recorded in an app on Poseidon’s phone, called Hippocampus. He collects 6 seahorses from the Arctic Ocean, 36 seahorses from the Pacific Ocean, 12 seahorses from the Indian Ocean, 6 seahorses from the Southern Ocean, and 42 seahorses from the Atlantic Ocean. \n",
    "\n",
    "Poseidon wants to get a sense for the average amount of plankton eaten by seahorses, so he uses the Hippcampus app to first order the seahorses in terms of when each seahorse was caught (first caught to last caught). Then, he selects every 3rd seahorse to see how much plankton was eaten.\n",
    "\n",
    "$$ \\quad $$\n",
    "    \n",
    "**Part A:** Identify the following: \n",
    "\n",
    "- the population \n",
    "- the sample frame \n",
    "- the sample \n",
    "- the type of sample \n",
    "- the quantity of interest"
   ]
  },
  {
   "cell_type": "markdown",
   "metadata": {},
   "source": []
  },
  {
   "cell_type": "markdown",
   "metadata": {},
   "source": [
    "[Back to top](#top)\n",
    "\n",
    "<br>\n",
    "\n",
    "<a/ id='p2'></a>\n",
    "\n",
    "### (25 points) Problem 2\n",
    "***\n",
    "\n",
    "A method to investigate the sensitivity of the sample mean and sample median to extreme outliers and changes in the dataset is to replace one or more elements in a given dataset by a number $y$ and investigate the effect when $y$ changes. To illustrate this, consider the following dataset:\n",
    " \n",
    "$$  4.3 \\quad 5.2 \\quad 5.0 \\quad 3.8 \\quad 4.1 \\quad 5.5 \\quad 1.9 $$\n",
    "\n",
    "\n"
   ]
  },
  {
   "cell_type": "markdown",
   "metadata": {},
   "source": [
    "**Part A:** Compute the sample mean and sample median. Do not use the canned mean and median python functions. Write your own code to compute these quantities. You may use the python length and sort functions, but that is it."
   ]
  },
  {
   "cell_type": "code",
   "execution_count": 2,
   "metadata": {},
   "outputs": [
    {
     "name": "stdout",
     "output_type": "stream",
     "text": [
      "4.257142857142857\n",
      "4.3\n"
     ]
    }
   ],
   "source": [
    "values = [4.3, 5.2, 5.0, 3.8, 4.1, 5.5, 1.9]\n",
    "values.sort()\n",
    "def sampleMean(x):\n",
    "    sum = 0.0\n",
    "    for num in x:\n",
    "        sum += num\n",
    "    return sum / len(x)\n",
    "def sampleMedian(x):\n",
    "    if (len(x) % 2 != 0):\n",
    "        temp_len = len(x) - 1\n",
    "        temp_len /= 2\n",
    "    return (x[int(temp_len)])\n",
    "    \n",
    "print(sampleMean(values))\n",
    "print(sampleMedian(values))"
   ]
  },
  {
   "cell_type": "markdown",
   "metadata": {},
   "source": [
    "**Part B:** Now, recompute the mean and the median using the python numpy functions. Compare your answers to what you computed in Part A. Do your answer match? (Hint: They should!)"
   ]
  },
  {
   "cell_type": "code",
   "execution_count": 3,
   "metadata": {},
   "outputs": [
    {
     "name": "stdout",
     "output_type": "stream",
     "text": [
      "4.257142857142857\n",
      "4.3\n"
     ]
    }
   ],
   "source": [
    "print(np.mean(values))\n",
    "print(np.median(values))"
   ]
  },
  {
   "cell_type": "markdown",
   "metadata": {},
   "source": [
    "The answers match."
   ]
  },
  {
   "cell_type": "markdown",
   "metadata": {},
   "source": [
    "**Part C:** Now consider the following data set. \n",
    "$$  4.3 \\quad 5.2 \\quad 5.0 \\quad 3.8 \\quad 4.1 \\quad 5.5 \\quad 1.9 \\quad y$$\n",
    "\n",
    "Is there a value for $y$ that would make the mean of the data equal to 7? If so, calculate the value of $y$ that makes the mean equal to 7. If not, clearly explain why not.\n",
    "    \n",
    "Is there a value for $y$ that would make the median of the data equal to 7? If so, calculate the values of $y$ that makes the median equal to 7. If not, clearly explain why not."
   ]
  },
  {
   "cell_type": "markdown",
   "metadata": {},
   "source": []
  },
  {
   "cell_type": "code",
   "execution_count": 4,
   "metadata": {},
   "outputs": [
    {
     "name": "stdout",
     "output_type": "stream",
     "text": [
      "The number that makes the mean 7 is:  26.200000000000003\n"
     ]
    }
   ],
   "source": [
    "# Mean\n",
    "values = [4.3, 5.2, 5.0, 3.8, 4.1, 5.5, 1.9]\n",
    "values.sort()\n",
    "length = len(values) + 1\n",
    "sum = 0.0\n",
    "for num in values:\n",
    "    sum += num\n",
    "neg_sum = 0.0 - sum\n",
    "x = neg_sum + 56\n",
    "print(\"The number that makes the mean 7 is: \", str(x))"
   ]
  },
  {
   "cell_type": "markdown",
   "metadata": {},
   "source": [
    "$$ \\frac{\\sum values + x}{8} = 7 $$\n",
    "$$ \\sum values - 56 = -x $$\n",
    "$$ \\bar{x} = 7\\: when\\:x = 26.200000000000003 $$"
   ]
  },
  {
   "cell_type": "markdown",
   "metadata": {},
   "source": [
    "The sorted list of numbers is [1.9, 3.8, 4.1, 4.3, 5.0, 5.2, 5.5]. Introducing another number, y, would not result in the median being 7. y could be any number, which would make either 4.3 and 5.0 the two numbers to be averaged, or 4.1 and 4.3 to be averaged, neither of which result in 7."
   ]
  },
  {
   "cell_type": "markdown",
   "metadata": {},
   "source": [
    "**Part D**: Compute the sample variance and the sample standard deviation for the original dataset given in part A using the formulas given in class. You may not use the built-in python variance, standard deviation, or sum functions. Using the length and square root functions is fine."
   ]
  },
  {
   "cell_type": "code",
   "execution_count": 5,
   "metadata": {},
   "outputs": [
    {
     "name": "stdout",
     "output_type": "stream",
     "text": [
      "The sample variance is:  1.4628571428571429\n",
      "The standard deviation is:  1.209486313629527\n"
     ]
    }
   ],
   "source": [
    "values = [4.3, 5.2, 5.0, 3.8, 4.1, 5.5, 1.9]\n",
    "values.sort()\n",
    "def sample_variance(nums):\n",
    "    mean = sampleMean(nums) #Function from Problem 2 Part a\n",
    "    computed = []\n",
    "    idx = 0\n",
    "    for number in values:\n",
    "        temp = (values[idx] - mean) ** 2\n",
    "        idx += 1\n",
    "        computed.append(temp)\n",
    "    sum_total = 0.0\n",
    "    for item in computed:\n",
    "        sum_total += item\n",
    "    return (sum_total * (1/(len(values) - 1)))\n",
    "def standard_deviation(variance):\n",
    "    return (sqrt(variance))\n",
    "print(\"The sample variance is: \", str(sample_variance(values)))\n",
    "print(\"The standard deviation is: \", str(standard_deviation(sample_variance(values))))"
   ]
  },
  {
   "cell_type": "markdown",
   "metadata": {},
   "source": [
    "**Part E:** Execute the following code. Does it match what you computed in part D? Why or why not? If not, how can you correct the code below?"
   ]
  },
  {
   "cell_type": "code",
   "execution_count": 6,
   "metadata": {},
   "outputs": [
    {
     "name": "stdout",
     "output_type": "stream",
     "text": [
      "The sample variance is:  1.2538775510204085\n",
      "the std dev is:  1.1197667395580244\n"
     ]
    }
   ],
   "source": [
    "dataset = [4.3, 5.2, 5.0, 3.8, 4.1, 5.5, 1.9]\n",
    "print(\"The sample variance is: \", np.var(dataset))\n",
    "print(\"the std dev is: \", np.std(dataset))"
   ]
  },
  {
   "cell_type": "markdown",
   "metadata": {},
   "source": [
    "The sample variance and standard deviation do not match because numpy calculates the sample variance with $$ \\frac{1}{n} $$ degrees of freedom whereas I calculated the sample variance with $$\\frac{1}{n - 1}$$ degrees of freedom. When using my functions with $$\\frac{1}{n}$$ degrees of freedom, the values match"
   ]
  },
  {
   "cell_type": "markdown",
   "metadata": {},
   "source": [
    "**Part F**: Again consider the data set from Part C: $$  4.3 \\quad 5.2 \\quad 5.0 \\quad 3.8 \\quad 4.1 \\quad 5.5 \\quad 1.9 \\quad y$$\n",
    "\n",
    "Compute the sample median for the following cases (you may use whatever built-in python functions you'd like): \n",
    "- $y=5$ \n",
    "- $y=50$ \n",
    "- $y=4.36$ \n",
    "- $y \\to \\infty$ \n",
    "- $y \\to -\\infty$"
   ]
  },
  {
   "cell_type": "code",
   "execution_count": 7,
   "metadata": {},
   "outputs": [
    {
     "name": "stdout",
     "output_type": "stream",
     "text": [
      "With y = 5.00, the median is 4.65.\n",
      "With y = 50.00, the median is 4.65.\n",
      "With y = 4.36, the median is 4.33.\n",
      "With y = 179769313486231570814527423731704356798070567525844996598917476803157260780028538760589558632766878171540458953514382464234321326889464182768467546703537516986049910576551282076245490090389328944075868508455133942304583236903222948165808559332123348274797826204144723168738177180919299881250404026184124858368.00, the median is 4.33.\n",
      "With y = -17976931348623157580412819756850388593900235011794141176754562789180111453639664485361928830517704263393537268510363518759043843737070229269956251768752166883397940628862983287625967246810352023792017211936260189893797509826303293149283469713429932049693599732425511693654044437030940398714664210204414967808.00, the median is 4.20.\n"
     ]
    }
   ],
   "source": [
    "values = [4.3, 5.2, 5.0, 3.8, 4.1, 5.5, 1.9]\n",
    "def median(numbers):\n",
    "    numbers.sort()\n",
    "    return np.median(numbers)\n",
    "def calculate_medain(nums):\n",
    "    y_vals = [5, 50, 4.36, 1.7976931348623157e+308, -1.7976931348623157e+307]\n",
    "    for val in y_vals:\n",
    "        nums.append(val)\n",
    "        print(\"With y = {:.2f}, the median is {:.2f}.\".format(val, median(nums)))\n",
    "        del nums[-1]\n",
    "calculate_medain(values)"
   ]
  },
  {
   "cell_type": "markdown",
   "metadata": {},
   "source": [
    "**Part G**: Think about the previous parts, above, and describe in words or mathematical notation the answer to the following question:\n",
    "\n",
    "- By varying $y$, what is the set of all the possible values that the sample mean could take on?\n"
   ]
  },
  {
   "cell_type": "markdown",
   "metadata": {},
   "source": [
    "By varying the values of y, the median can be 4.2, 4.33, or 4.65"
   ]
  },
  {
   "cell_type": "markdown",
   "metadata": {},
   "source": [
    "**Part H**: Describe in words or mathematical notation, what happens to the sample standard deviation when $y$ is varied in the following ways: \n",
    " \n",
    "- $y \\to \\infty$ \n",
    "- $y \\to \\bar{x}$"
   ]
  },
  {
   "cell_type": "code",
   "execution_count": 8,
   "metadata": {},
   "outputs": [
    {
     "name": "stdout",
     "output_type": "stream",
     "text": [
      "The sample variance is:  1.2538775510204085\n",
      "the std dev is:  1.1197667395580244\n",
      "The sample variance is:  3.53467253904964e+299\n",
      "the std dev is:  5.945311210567232e+149\n",
      "The sample variance is:  1.0971428571428574\n",
      "the std dev is:  1.0474458731327636\n"
     ]
    }
   ],
   "source": [
    "values = [4.3, 5.2, 5.0, 3.8, 4.1, 5.5, 1.9]\n",
    "print(\"The sample variance is: \", np.var(values))\n",
    "print(\"the std dev is: \", np.std(values))\n",
    "values.append(1.7976931348623157e+150)\n",
    "print(\"The sample variance is: \", np.var(values))\n",
    "print(\"the std dev is: \", np.std(values))\n",
    "del values[-1]\n",
    "values.append(np.mean(values))\n",
    "print(\"The sample variance is: \", np.var(values))\n",
    "print(\"the std dev is: \", np.std(values))"
   ]
  },
  {
   "cell_type": "markdown",
   "metadata": {},
   "source": [
    "As seen in the following code above, the sample variance and standard deviation do not change by much when the mean of the list is appended to the list. However, when a number that approaches infinity is added to the list, the standard deviation and sample variance tend towards infinity."
   ]
  },
  {
   "cell_type": "markdown",
   "metadata": {},
   "source": [
    "[Back to top](#top)\n",
    "\n",
    "<a/ id='p3'></a>\n",
    "\n",
    "## (25 pts) Problem 3\n",
    "*** \n",
    "Some claim that the final hours aboard the RMS Titanic were marked by \"class warfare\" in which the people with first-class tickets took all the good spots on the lifeboats; others claim that the final hours were characterized by male chivalry, in which the men valiantly gave up their positions in the boats and succumbed bravely to the depths of the Atlantic. \n",
    "\n",
    "We have the data on survival rates by class and by sex, so let's figure out whether there is evidence for these scenarios. Access the Titanic data in `titanic_data.csv` and store it in a Pandas DataFrame. The data contains information pertaining to class status (**Pclass**), survival (**Survived**), and gender (**Sex**) of passengers, among other things. Be sure to use the `titanic_data.csv` data set, *not* the `clean_titanic_data` file from the in-class notebook."
   ]
  },
  {
   "cell_type": "code",
   "execution_count": 9,
   "metadata": {},
   "outputs": [
    {
     "data": {
      "text/html": [
       "<div>\n",
       "<style scoped>\n",
       "    .dataframe tbody tr th:only-of-type {\n",
       "        vertical-align: middle;\n",
       "    }\n",
       "\n",
       "    .dataframe tbody tr th {\n",
       "        vertical-align: top;\n",
       "    }\n",
       "\n",
       "    .dataframe thead th {\n",
       "        text-align: right;\n",
       "    }\n",
       "</style>\n",
       "<table border=\"1\" class=\"dataframe\">\n",
       "  <thead>\n",
       "    <tr style=\"text-align: right;\">\n",
       "      <th></th>\n",
       "      <th>PassengerId</th>\n",
       "      <th>Survived</th>\n",
       "      <th>Pclass</th>\n",
       "      <th>Name</th>\n",
       "      <th>Sex</th>\n",
       "      <th>Age</th>\n",
       "      <th>SibSp</th>\n",
       "      <th>Parch</th>\n",
       "      <th>Ticket</th>\n",
       "      <th>Fare</th>\n",
       "      <th>Cabin</th>\n",
       "      <th>Embarked</th>\n",
       "    </tr>\n",
       "  </thead>\n",
       "  <tbody>\n",
       "    <tr>\n",
       "      <td>0</td>\n",
       "      <td>1</td>\n",
       "      <td>0</td>\n",
       "      <td>3</td>\n",
       "      <td>Braund, Mr. Owen Harris</td>\n",
       "      <td>male</td>\n",
       "      <td>36.0</td>\n",
       "      <td>1</td>\n",
       "      <td>0</td>\n",
       "      <td>A/5 21171</td>\n",
       "      <td>7.2500</td>\n",
       "      <td>NaN</td>\n",
       "      <td>S</td>\n",
       "    </tr>\n",
       "    <tr>\n",
       "      <td>1</td>\n",
       "      <td>2</td>\n",
       "      <td>1</td>\n",
       "      <td>1</td>\n",
       "      <td>Cumings, Mrs. John Bradley (Florence Briggs Th...</td>\n",
       "      <td>female</td>\n",
       "      <td>18.0</td>\n",
       "      <td>1</td>\n",
       "      <td>0</td>\n",
       "      <td>PC 17599</td>\n",
       "      <td>71.2833</td>\n",
       "      <td>C85</td>\n",
       "      <td>C</td>\n",
       "    </tr>\n",
       "    <tr>\n",
       "      <td>2</td>\n",
       "      <td>3</td>\n",
       "      <td>1</td>\n",
       "      <td>3</td>\n",
       "      <td>Heikkinen, Miss. Laina</td>\n",
       "      <td>female</td>\n",
       "      <td>14.0</td>\n",
       "      <td>0</td>\n",
       "      <td>0</td>\n",
       "      <td>STON/O2. 3101282</td>\n",
       "      <td>7.9250</td>\n",
       "      <td>NaN</td>\n",
       "      <td>S</td>\n",
       "    </tr>\n",
       "    <tr>\n",
       "      <td>3</td>\n",
       "      <td>4</td>\n",
       "      <td>1</td>\n",
       "      <td>1</td>\n",
       "      <td>Futrelle, Mrs. Jacques Heath (Lily May Peel)</td>\n",
       "      <td>female</td>\n",
       "      <td>27.0</td>\n",
       "      <td>1</td>\n",
       "      <td>0</td>\n",
       "      <td>113803</td>\n",
       "      <td>53.1000</td>\n",
       "      <td>C123</td>\n",
       "      <td>S</td>\n",
       "    </tr>\n",
       "    <tr>\n",
       "      <td>4</td>\n",
       "      <td>5</td>\n",
       "      <td>0</td>\n",
       "      <td>3</td>\n",
       "      <td>Allen, Mr. William Henry</td>\n",
       "      <td>male</td>\n",
       "      <td>63.0</td>\n",
       "      <td>0</td>\n",
       "      <td>0</td>\n",
       "      <td>373450</td>\n",
       "      <td>8.0500</td>\n",
       "      <td>NaN</td>\n",
       "      <td>S</td>\n",
       "    </tr>\n",
       "  </tbody>\n",
       "</table>\n",
       "</div>"
      ],
      "text/plain": [
       "   PassengerId  Survived  Pclass  \\\n",
       "0            1         0       3   \n",
       "1            2         1       1   \n",
       "2            3         1       3   \n",
       "3            4         1       1   \n",
       "4            5         0       3   \n",
       "\n",
       "                                                Name     Sex   Age  SibSp  \\\n",
       "0                            Braund, Mr. Owen Harris    male  36.0      1   \n",
       "1  Cumings, Mrs. John Bradley (Florence Briggs Th...  female  18.0      1   \n",
       "2                             Heikkinen, Miss. Laina  female  14.0      0   \n",
       "3       Futrelle, Mrs. Jacques Heath (Lily May Peel)  female  27.0      1   \n",
       "4                           Allen, Mr. William Henry    male  63.0      0   \n",
       "\n",
       "   Parch            Ticket     Fare Cabin Embarked  \n",
       "0      0         A/5 21171   7.2500   NaN        S  \n",
       "1      0          PC 17599  71.2833   C85        C  \n",
       "2      0  STON/O2. 3101282   7.9250   NaN        S  \n",
       "3      0            113803  53.1000  C123        S  \n",
       "4      0            373450   8.0500   NaN        S  "
      ]
     },
     "execution_count": 9,
     "metadata": {},
     "output_type": "execute_result"
    }
   ],
   "source": [
    "filepath = 'titanic_data.csv'\n",
    "df = pd.read_csv(filepath)\n",
    "df.head()"
   ]
  },
  {
   "cell_type": "markdown",
   "metadata": {},
   "source": [
    "**Part A**: Consider the two claims: class warfare, and male chivalry. Suppose that class warfare occurred in the final hours aboard the Titanic.  What patterns might you expect to see in the data?  Suppose that male chivalry was widespread during the final hours instead. What patterns might you then expect to see in the data?  Explain both of these hypothesized patterns in words. Are these two hypotheses mutually exclusive or not?"
   ]
  },
  {
   "cell_type": "markdown",
   "metadata": {},
   "source": [
    "To support the class warfare hypothesis, you would see more Pclass values as 1 as opposed to 3.\n",
    "To support the male chivalry hypothesis, you would see more females in the Sex catecory and more male and females with ages below 18. \n",
    "The two evens do not have to be mutually exclusive. More upperclass passengers could have boarded the life rafts where upperclass males could sacrifice their spot for another upperclass child or female."
   ]
  },
  {
   "cell_type": "markdown",
   "metadata": {},
   "source": [
    "**Part B**: Use Pandas methods to create a clean data set by removing any rows from the DataFrame that are missing values corresponding to **Survived**, **Pclass**, **Age**, or **Sex**. Store the clean data in a DataFrame called dfTitanic. Be sure to show any exploratory work determining if/where there are rows with missing values."
   ]
  },
  {
   "cell_type": "code",
   "execution_count": 10,
   "metadata": {},
   "outputs": [],
   "source": [
    "df['Survived'].replace('', np.nan, inplace=True)\n",
    "df['Pclass'].replace('', np.nan, inplace=True)\n",
    "df['Age'].replace('', np.nan, inplace=True)\n",
    "df['Sex'].replace('', np.nan, inplace=True)\n",
    "df.dropna(subset=['Survived'], inplace=True)\n",
    "df.dropna(subset=['Pclass'], inplace=True)\n",
    "df.dropna(subset=['Age'], inplace=True)\n",
    "df.dropna(subset=['Sex'], inplace=True)\n",
    "dfTitanic = df"
   ]
  },
  {
   "cell_type": "markdown",
   "metadata": {},
   "source": [
    "**Part C**: Compute the fraction of survivors according to class and gender. There are 3 passenger classes and 2 sexes in the data set, so you should report all 6 possible combinations.  Then, answer 3 questions:\n",
    "* **(i)** Within each passenger class, were men or women more/less/equally likely to survive?\n",
    "* **(ii)**  Looking at only the male or only the female passengers, how is passenger class related to the category's survival rate?\n",
    "* **(iii)**  Did men in first class or women in third class have a higher survival rate? "
   ]
  },
  {
   "cell_type": "code",
   "execution_count": 11,
   "metadata": {},
   "outputs": [
    {
     "name": "stdout",
     "output_type": "stream",
     "text": [
      "First class females are 75 out of 714. Resulting in 75/714\n",
      "Second class females are 58 out of 714. Resulting in 58/714\n",
      "Third class females are 118 out of 714. Resulting in 118/714\n",
      "First class males are 93 out of 714. Resulting in 93/714\n",
      "Second class males are 87 out of 714. Resulting in 87/714\n",
      "Third class males are 283 out of 714. Resulting in 283/714\n"
     ]
    }
   ],
   "source": [
    "dataSample = dfTitanic.groupby([\"Sex\", \"Pclass\"]).size().reset_index(name=\"Numbers\")\n",
    "totalInstances = dataSample[\"Numbers\"].sum()\n",
    "femaleFirst = dataSample.loc[(dataSample['Sex'] == 'female') & (dataSample['Pclass'] == 1)].Numbers\n",
    "femaleSecond = dataSample.loc[(dataSample['Sex'] == 'female') & (dataSample['Pclass'] == 2)].Numbers\n",
    "femaleThird = dataSample.loc[(dataSample['Sex'] == 'female') & (dataSample['Pclass'] == 3)].Numbers\n",
    "maleFirst = dataSample.loc[(dataSample['Sex'] == 'male') & (dataSample['Pclass'] == 1)].Numbers\n",
    "maleSecond = dataSample.loc[(dataSample['Sex'] == 'male') & (dataSample['Pclass'] == 2)].Numbers\n",
    "maleThird = dataSample.loc[(dataSample['Sex'] == 'male') & (dataSample['Pclass'] == 3)].Numbers\n",
    "print(\"First class females are {} out of {}. Resulting in {}/{}\".format(femaleFirst[0], totalInstances, femaleFirst[0], totalInstances))\n",
    "print(\"Second class females are {} out of {}. Resulting in {}/{}\".format(femaleSecond[1], totalInstances, femaleSecond[1], totalInstances))\n",
    "print(\"Third class females are {} out of {}. Resulting in {}/{}\".format(femaleThird[2], totalInstances, femaleThird[2], totalInstances))\n",
    "print(\"First class males are {} out of {}. Resulting in {}/{}\".format(maleFirst[3], totalInstances, maleFirst[3], totalInstances))\n",
    "print(\"Second class males are {} out of {}. Resulting in {}/{}\".format(maleSecond[4], totalInstances, maleSecond[4], totalInstances))\n",
    "print(\"Third class males are {} out of {}. Resulting in {}/{}\".format(maleThird[5], totalInstances, maleThird[5], totalInstances))"
   ]
  },
  {
   "cell_type": "markdown",
   "metadata": {},
   "source": [
    "* **(i)** Within each passenger class, the males were more likely to survive.\n",
    "* **(ii)** For both male and female, the male or female in third class was most likely to survive followed by first class, then closely by second class.\n",
    "* **(iii)** Females in third class had a higher survival rate than males in first class."
   ]
  },
  {
   "cell_type": "markdown",
   "metadata": {},
   "source": [
    "**Part D**: Plot a histogram of all of the passenger ages, using the bin edges $[0,5,10,\\ldots,70,75,80]$ defined by `my_bins` below. How would you characterize the distribution of **AGE**? (By _characterize_ we mean that you should indicate whether the data are unimodal, bimodal, multimodal, symmetric, negatively skewed, positively skewed, etc.)  Be sure to label your axes and use your figure to justify your conclusions."
   ]
  },
  {
   "cell_type": "code",
   "execution_count": 12,
   "metadata": {},
   "outputs": [],
   "source": [
    "my_bins = range(0,85,5)"
   ]
  },
  {
   "cell_type": "code",
   "execution_count": 13,
   "metadata": {},
   "outputs": [
    {
     "data": {
      "text/plain": [
       "Text(0, 0.5, 'Frequency of Ages')"
      ]
     },
     "execution_count": 13,
     "metadata": {},
     "output_type": "execute_result"
    },
    {
     "data": {
      "image/png": "[encoded data removed]",
      "text/plain": [
       "<Figure size 576x288 with 1 Axes>"
      ]
     },
     "metadata": {
      "needs_background": "light"
     },
     "output_type": "display_data"
    }
   ],
   "source": [
    "# Initialize figure \n",
    "fig, ax = plt.subplots(figsize=(8,4))\n",
    "\n",
    "# Plot histogram \n",
    "dfTitanic.hist(column=\"Age\", ax=ax, bins=my_bins);\n",
    "\n",
    "# Add a title\n",
    "ax.set_title(\"Ages of all passengers\", fontsize=20)\n",
    "\n",
    "# Add axis labels \n",
    "ax.set_xlabel(\"Ages\", fontsize=16)\n",
    "ax.set_ylabel(\"Frequency of Ages\", fontsize=16)\n"
   ]
  },
  {
   "cell_type": "markdown",
   "metadata": {},
   "source": [
    "The Ages of all pagessengers appears to be bimodal with a slight left skew."
   ]
  },
  {
   "cell_type": "markdown",
   "metadata": {},
   "source": [
    "**Part E**: One might wonder how a passenger's age is related to the likelihood that they would survive the Titanic disaster. To answer this question graphically, plot two density histograms on the same set of axes, showing the distribution of the ages of passengers who survived, and the distribution of the ages of passengers who did not. \n",
    "* Use the bin edges $[0,5,10,\\ldots,70,75,80]$ for both histograms.\n",
    "* This problem is about a *ship* sinking in the *ocean*, so use **coral** and **seagreen** as the facecolors for your histogram boxes.\n",
    "* Plot both histograms on a single set of axes (there should be only one panel in the figure you create), but use Matplotlib/Pandas plotting functionality to make the faces of the histogram boxes somewhat transparent, so both histograms are visible.\n",
    "* Include a legend and label your axes.\n",
    "* Comment on the results. Does your figure suggest that some age ranges are more or less likely to have survived the disaster than other ages? Fully explain your reasoning and use your figure to justify your conclusions.\n",
    "* If you noticed some relationship between age and likelihood of survival, what is one possible explanation?"
   ]
  },
  {
   "cell_type": "code",
   "execution_count": 14,
   "metadata": {},
   "outputs": [
    {
     "data": {
      "text/plain": [
       "<matplotlib.legend.Legend at 0x12181c250>"
      ]
     },
     "execution_count": 14,
     "metadata": {},
     "output_type": "execute_result"
    },
    {
     "data": {
      "image/png": "[encoded data removed]",
      "text/plain": [
       "<Figure size 576x576 with 1 Axes>"
      ]
     },
     "metadata": {
      "needs_background": "light"
     },
     "output_type": "display_data"
    }
   ],
   "source": [
    "# Initialize figure subplots\n",
    "fig, axes = plt.subplots(nrows=1, ncols=1, figsize=(8,8))\n",
    "\n",
    "# --------------------------------------\n",
    "# Plot histogram for Niwot on Top \n",
    "# --------------------------------------\n",
    "dfTitanic.loc[dfTitanic[\"Survived\"]==1].hist(column=\"Age\", ax=axes, facecolor=\"coral\", edgecolor=\"white\", density=True, bins=my_bins, label='Survivors', alpha=0.5)\n",
    "dfTitanic.loc[dfTitanic[\"Survived\"]==0].hist(column=\"Age\", ax=axes, facecolor=\"seagreen\", edgecolor=\"white\", density=True, bins=my_bins, label='Non-Survivors', alpha=0.5)                                                     \n",
    "# Add titles and labels \n",
    "axes.set_title(\"Distribution of Survivors and Non-Survivors\", fontsize=20)\n",
    "axes.set_xlabel(\"Ages\", fontsize=16)\n",
    "axes.set_ylabel(\"Density\", fontsize=16)\n",
    "\n",
    "# Make grid lighter and set behind data\n",
    "axes.grid(alpha=0.25)\n",
    "axes.set_axisbelow(True)\n",
    "                                                   \n",
    "fig.subplots_adjust(hspace=.5)\n",
    "fig.legend(loc='upper right')"
   ]
  },
  {
   "cell_type": "markdown",
   "metadata": {},
   "source": [
    "It appears as if there are more survivors in the 20-30 age range. The older the individual, the less likely they are to survive. Between 0-15, there is also a low survival rating, most likely because it is more difficult to manage children in hectic times."
   ]
  },
  {
   "cell_type": "markdown",
   "metadata": {},
   "source": [
    "**Part F:** In Part E, we plotted two *density* histograms, showing the distributions of ages of passengers that survived or did not survive the Titanic disaster. Why would it be misleading for us to have plotted these as *frequency* histograms instead?"
   ]
  },
  {
   "cell_type": "markdown",
   "metadata": {},
   "source": [
    "The frequency histogram would have showed us the numbers of people in each age group that survived or didn't, meaning that it would not have given us the likelyhood of survival, but rather the number of survivors."
   ]
  },
  {
   "cell_type": "markdown",
   "metadata": {},
   "source": [
    "**Part G**: Do the data suggest class warfare, male chivalry, or some combination of both characteristics in the final hours aboard the Titanic?  Justify your conclusion based on the computations done above, or do any other analysis that you like, but be sure to clearly justify your conclusion."
   ]
  },
  {
   "cell_type": "markdown",
   "metadata": {},
   "source": [
    "The ratings of survivors shows that more males are to have survived than females. The ratings also show that there were more third class survivors. The histograms showed that the individuals in the 20-30 year old range were more likely to survive as well. There was most likely a combination of both class warfare and male chivalry aboard the Titanic. This is because there was more third class survivors who survived and more 20-30 year old people."
   ]
  },
  {
   "cell_type": "markdown",
   "metadata": {},
   "source": [
    "[Back to top](#top)\n",
    "<a/ id='p4'></a>\n",
    "\n",
    "## (25 pts) Problem 4 (Snowfall in Boulder)\n",
    "***\n",
    "\n",
    "The NOAA Earth System Research Laboratory (ESRL) Physical Sciences Division (PSD) conducts scientific research to observe, understand, model, predict, and forecast weather, water, and climate extremes and their impacts. They have a website with publicly available data. One such data set contains monthly snowfall for Boulder dating back to 1889 (https://www.esrl.noaa.gov/psd/boulder/bouldersnow.html). Load ‘Boulder_Snowfall.csv’ from the Canvas page. \n",
    "\n",
    "**Part A:** To start, we need to “clean” our data set. When the amount of snow was nonzero, but too small to be recorded, this data set recorded ‘T’. Replace those instances with zeros. AFTER, you've done that, remove any rows (which correspond to years) with missing data. As a check, if you've cleaned the file correctly, there should be 121 rows remaining. "
   ]
  },
  {
   "cell_type": "code",
   "execution_count": 15,
   "metadata": {},
   "outputs": [
    {
     "data": {
      "text/html": [
       "<div>\n",
       "<style scoped>\n",
       "    .dataframe tbody tr th:only-of-type {\n",
       "        vertical-align: middle;\n",
       "    }\n",
       "\n",
       "    .dataframe tbody tr th {\n",
       "        vertical-align: top;\n",
       "    }\n",
       "\n",
       "    .dataframe thead th {\n",
       "        text-align: right;\n",
       "    }\n",
       "</style>\n",
       "<table border=\"1\" class=\"dataframe\">\n",
       "  <thead>\n",
       "    <tr style=\"text-align: right;\">\n",
       "      <th></th>\n",
       "      <th>Year</th>\n",
       "      <th>Jan</th>\n",
       "      <th>Feb</th>\n",
       "      <th>Mar</th>\n",
       "      <th>Apr</th>\n",
       "      <th>May</th>\n",
       "      <th>Jun</th>\n",
       "      <th>Jul</th>\n",
       "      <th>Aug</th>\n",
       "      <th>Sep</th>\n",
       "      <th>Oct</th>\n",
       "      <th>Nov</th>\n",
       "      <th>Dec</th>\n",
       "      <th>Total Sep-Jun</th>\n",
       "      <th>Total Jan-Dec</th>\n",
       "    </tr>\n",
       "  </thead>\n",
       "  <tbody>\n",
       "    <tr>\n",
       "      <td>5</td>\n",
       "      <td>1897</td>\n",
       "      <td>5.8</td>\n",
       "      <td>10.2</td>\n",
       "      <td>13.7</td>\n",
       "      <td>11.3</td>\n",
       "      <td>0.0</td>\n",
       "      <td>0.0</td>\n",
       "      <td>0.0</td>\n",
       "      <td>0.0</td>\n",
       "      <td>0.0</td>\n",
       "      <td>8.7</td>\n",
       "      <td>5.5</td>\n",
       "      <td>9.0</td>\n",
       "      <td>0.0</td>\n",
       "      <td>64.2</td>\n",
       "    </tr>\n",
       "    <tr>\n",
       "      <td>6</td>\n",
       "      <td>1898</td>\n",
       "      <td>7.0</td>\n",
       "      <td>4.2</td>\n",
       "      <td>7.5</td>\n",
       "      <td>8.2</td>\n",
       "      <td>13.0</td>\n",
       "      <td>0.0</td>\n",
       "      <td>0.0</td>\n",
       "      <td>0.0</td>\n",
       "      <td>1.0</td>\n",
       "      <td>5.0</td>\n",
       "      <td>23.5</td>\n",
       "      <td>18.0</td>\n",
       "      <td>63.1</td>\n",
       "      <td>87.4</td>\n",
       "    </tr>\n",
       "    <tr>\n",
       "      <td>7</td>\n",
       "      <td>1899</td>\n",
       "      <td>13.0</td>\n",
       "      <td>15.2</td>\n",
       "      <td>31.0</td>\n",
       "      <td>8.0</td>\n",
       "      <td>0.0</td>\n",
       "      <td>0.0</td>\n",
       "      <td>0.0</td>\n",
       "      <td>0.0</td>\n",
       "      <td>0.0</td>\n",
       "      <td>2.0</td>\n",
       "      <td>0.0</td>\n",
       "      <td>12.8</td>\n",
       "      <td>114.7</td>\n",
       "      <td>82.0</td>\n",
       "    </tr>\n",
       "    <tr>\n",
       "      <td>8</td>\n",
       "      <td>1900</td>\n",
       "      <td>4.5</td>\n",
       "      <td>14.8</td>\n",
       "      <td>6.8</td>\n",
       "      <td>20.0</td>\n",
       "      <td>0.0</td>\n",
       "      <td>0.0</td>\n",
       "      <td>0.0</td>\n",
       "      <td>0.0</td>\n",
       "      <td>0.0</td>\n",
       "      <td>0.0</td>\n",
       "      <td>3.1</td>\n",
       "      <td>9.2</td>\n",
       "      <td>60.9</td>\n",
       "      <td>58.4</td>\n",
       "    </tr>\n",
       "    <tr>\n",
       "      <td>9</td>\n",
       "      <td>1901</td>\n",
       "      <td>7.5</td>\n",
       "      <td>6.2</td>\n",
       "      <td>18.5</td>\n",
       "      <td>26.0</td>\n",
       "      <td>0.0</td>\n",
       "      <td>0.0</td>\n",
       "      <td>0.0</td>\n",
       "      <td>0.0</td>\n",
       "      <td>0.0</td>\n",
       "      <td>4.0</td>\n",
       "      <td>0.0</td>\n",
       "      <td>15.0</td>\n",
       "      <td>70.5</td>\n",
       "      <td>77.2</td>\n",
       "    </tr>\n",
       "  </tbody>\n",
       "</table>\n",
       "</div>"
      ],
      "text/plain": [
       "   Year   Jan   Feb   Mar   Apr   May  Jun  Jul  Aug  Sep  Oct   Nov   Dec  \\\n",
       "5  1897   5.8  10.2  13.7  11.3   0.0  0.0  0.0  0.0  0.0  8.7   5.5   9.0   \n",
       "6  1898   7.0   4.2   7.5   8.2  13.0  0.0  0.0  0.0  1.0  5.0  23.5  18.0   \n",
       "7  1899  13.0  15.2  31.0   8.0   0.0  0.0  0.0  0.0  0.0  2.0   0.0  12.8   \n",
       "8  1900   4.5  14.8   6.8  20.0   0.0  0.0  0.0  0.0  0.0  0.0   3.1   9.2   \n",
       "9  1901   7.5   6.2  18.5  26.0   0.0  0.0  0.0  0.0  0.0  4.0   0.0  15.0   \n",
       "\n",
       "   Total Sep-Jun  Total Jan-Dec  \n",
       "5            0.0           64.2  \n",
       "6           63.1           87.4  \n",
       "7          114.7           82.0  \n",
       "8           60.9           58.4  \n",
       "9           70.5           77.2  "
      ]
     },
     "execution_count": 15,
     "metadata": {},
     "output_type": "execute_result"
    }
   ],
   "source": [
    "file_path = 'Boulder_Snowfall.csv'\n",
    "df = pd.read_csv(file_path)\n",
    "def fix_data(val):\n",
    "    if pd.isnull(val):\n",
    "        return val\n",
    "    num_str = val\n",
    "    stripped_val = val.strip()\n",
    "    if (stripped_val == 'T'):\n",
    "        num_str = stripped_val.replace('T', '0.0')\n",
    "    if (stripped_val == '.'):\n",
    "        num_str = stripped_val.replace('.', '0.0')\n",
    "    num = float(num_str)\n",
    "    return num \n",
    "def fix_totals(val):\n",
    "    if pd.isnull(val):\n",
    "        return val\n",
    "    num_str = val\n",
    "    stripped_val = val.strip()\n",
    "    if (stripped_val == '.'):\n",
    "        num_str = stripped_val.replace('.', '0.0')\n",
    "    num = float(num_str)\n",
    "    return num\n",
    "df.loc[:,\"Total Sep-Jun\"] = df.loc[:,\"Total Sep-Jun\"].apply(fix_totals)\n",
    "df.loc[:,\"Total Jan-Dec\"] = df.loc[:,\"Total Jan-Dec\"].apply(fix_totals)\n",
    "df.loc[:,\"Jan\"] = df.loc[:,\"Jan\"].apply(fix_data)\n",
    "df.loc[:,\"Feb\"] = df.loc[:,\"Feb\"].apply(fix_data)\n",
    "df.loc[:,\"Mar\"] = df.loc[:,\"Mar\"].apply(fix_data)\n",
    "df.loc[:,\"Apr\"] = df.loc[:,\"Apr\"].apply(fix_data)\n",
    "df.loc[:,\"May\"] = df.loc[:,\"May\"].apply(fix_data)\n",
    "df.loc[:,\"Jun\"] = df.loc[:,\"Jun\"].apply(fix_data)\n",
    "df.loc[:,\"Jul\"] = df.loc[:,\"Jul\"].apply(fix_data)\n",
    "df.loc[:,\"Aug\"] = df.loc[:,\"Aug\"].apply(fix_data)\n",
    "df.loc[:,\"Sep\"] = df.loc[:,\"Sep\"].apply(fix_data)\n",
    "df.loc[:,\"Oct\"] = df.loc[:,\"Oct\"].apply(fix_data)\n",
    "df.loc[:,\"Nov\"] = df.loc[:,\"Nov\"].apply(fix_data)\n",
    "df.loc[:,\"Dec\"] = df.loc[:,\"Dec\"].apply(fix_data)\n",
    "\n",
    "df = df.drop(df[ (df['Jan'] == 0.0) & (df['Feb'] == 0.0) & (df['Mar'] == 0.0) & (df['Apr'] == 0.0) & (df['May'] == 0.0) & (df['Jun'] == 0.0) & (df['Jul'] == 0.0) & (df['Aug'] == 0.0) & (df['Sep'] == 0.0) & (df['Oct'] == 0.0) & (df['Nov'] == 0.0) & (df['Dec'] == 0.0) ].index)\n",
    "df = df.drop(df[ (df[\"Total Sep-Jun\"] == 0.0) & (df[\"Total Jan-Dec\"] == 0.0)].index)\n",
    "df.head()"
   ]
  },
  {
   "cell_type": "markdown",
   "metadata": {},
   "source": [
    " **Part B:** Plot the last column of data, “Total Jan-Dec”, from the cleaned data set. Label your axes. Do you observe any trends? Discuss.\n",
    "\n",
    "[Note: Make sure that your x-axis tick labels are in years and are readable. You may have to play around with formatting the ticklabels. plt.MaxNLocator might be helpful depending on how you plotted your data.] "
   ]
  },
  {
   "cell_type": "code",
   "execution_count": 16,
   "metadata": {},
   "outputs": [
    {
     "data": {
      "image/png": "[encoded data removed]",
      "text/plain": [
       "<Figure size 432x288 with 1 Axes>"
      ]
     },
     "metadata": {
      "needs_background": "light"
     },
     "output_type": "display_data"
    }
   ],
   "source": [
    "\n",
    "df.plot.line(x=\"Year\", y=\"Total Jan-Dec\", title=\"Total Jan-Dec Snowfall\");\n",
    "plt.ylabel(\"Snowfall in Inces\")\n",
    "plt.show(block=True);\n"
   ]
  },
  {
   "cell_type": "markdown",
   "metadata": {},
   "source": [
    "**Part C:** Using your cleaned data set, create a histogram of the yearly snowfall. Bin your data with a bin-width of 5 inches, starting at 35 inches. Make the edgecolor of your graph white. What is the most common amount of snow to get in a year? How does this compare with how much snow we got in 2019? "
   ]
  },
  {
   "cell_type": "code",
   "execution_count": 17,
   "metadata": {},
   "outputs": [
    {
     "name": "stdout",
     "output_type": "stream",
     "text": [
      "     Year   Jan   Feb   Mar   Apr  May  Jun  Jul  Aug  Sep   Oct   Nov  Dec  \\\n",
      "127  2019  14.5  14.6  16.2  10.2  7.4  0.0  0.0  0.0  0.0  26.4  29.5  3.4   \n",
      "\n",
      "     Total Sep-Jun  Total Jan-Dec  \n",
      "127           59.3          122.2  \n"
     ]
    },
    {
     "data": {
      "image/png": "[encoded data removed]",
      "text/plain": [
       "<Figure size 576x288 with 1 Axes>"
      ]
     },
     "metadata": {
      "needs_background": "light"
     },
     "output_type": "display_data"
    }
   ],
   "source": [
    "my_bins = range(35, 160, 5)\n",
    "# Initialize figure \n",
    "fig, ax = plt.subplots(figsize=(8,4))\n",
    "\n",
    "# Plot histogram \n",
    "df.hist(column=\"Total Jan-Dec\", ax=ax, bins=my_bins, edgecolor='white');\n",
    "\n",
    "# Add a title\n",
    "ax.set_title(\"Total Snowfall in Jac-Dec\", fontsize=20)\n",
    "\n",
    "# Add axis labels \n",
    "ax.set_xlabel(\"Snowfall in Inches\", fontsize=16)\n",
    "ax.set_ylabel(\"Frequency of Snowfall\", fontsize=16)\n",
    "snow2019 = df.loc[(df['Year'] == 2019)]\n",
    "print(snow2019)"
   ]
  },
  {
   "cell_type": "markdown",
   "metadata": {},
   "source": [
    "The most common amount of snow to get is between 75 and 80 inches. This is less than the amount of snow in 2019, which was 122.2 inches"
   ]
  },
  {
   "cell_type": "markdown",
   "metadata": {},
   "source": [
    "**Part D:** Generate a series of 12 box plots to represent each decade starting in 1900, using your cleaned data set. Orient the box plots so that the decades (‘1900-1909’, ‘1910-1919’, … , ‘2010-2019’) appear along the x-axis, and the y-axis shows the amount of snowfall. Have all 12 boxplots as part of one graph. Include appropriate labels to your axes and a title, so that if someone not in our class were to look at your plots, they would understand what they were looking at. \n",
    "\n",
    "[Note: Data from the year 2004 was dropped during the initial cleaning of the data set (or should have been). Keep this in mind when plotting data from the 2000-2009 decade.]"
   ]
  },
  {
   "cell_type": "code",
   "execution_count": 34,
   "metadata": {},
   "outputs": [
    {
     "data": {
      "image/png": "[encoded data removed]",
      "text/plain": [
       "<Figure size 864x576 with 1 Axes>"
      ]
     },
     "metadata": {
      "needs_background": "light"
     },
     "output_type": "display_data"
    }
   ],
   "source": [
    "def assign_decade (year):\n",
    "    if ((year >= 1900) & (year < 1910)):\n",
    "        return 1\n",
    "    if ((year >= 1910) & (year < 1920)):\n",
    "        return 2\n",
    "    if ((year >= 1920) & (year < 1930)):\n",
    "        return 3\n",
    "    if ((year >= 1930) & (year < 1940)):\n",
    "        return 4\n",
    "    if ((year >= 1940) & (year < 1950)):\n",
    "        return 5\n",
    "    if ((year >= 1950) & (year < 1960)):\n",
    "        return 6\n",
    "    if ((year >= 1960) & (year < 1970)):\n",
    "        return 7\n",
    "    if ((year >= 1970) & (year < 1980)):\n",
    "        return 8\n",
    "    if ((year >= 1980) & (year < 1990)):\n",
    "        return 9\n",
    "    if ((year >= 1990) & (year < 2000)):\n",
    "        return 10\n",
    "    if ((year >= 2000) & (year < 2010)):\n",
    "        return 11\n",
    "    if ((year >= 2010) & (year < 2020)):\n",
    "        return 12\n",
    "    else:\n",
    "        return 0\n",
    "df['Decade'] = df.loc[:,\"Year\"].apply(assign_decade)\n",
    "\n",
    "# Initialize figure \n",
    "fig, ax = plt.subplots(figsize=(12,8))\n",
    "\n",
    "# plot boxplots of PRCP for all stations but sugarloaf \n",
    "bp = df.loc[df[\"Decade\"] != 0].boxplot(column=\"Total Jan-Dec\", by=\"Decade\", ax=ax, return_type=\"dict\")\n",
    "\n",
    "# This time, bp is a Pandas series containing multiple dictionaries\n",
    "# corresponding to the two sets of data. We loop over each one individually \n",
    "# and set the parameters we want \n",
    "for column in bp:\n",
    "    \n",
    "    # Change properties in boxes \n",
    "    for box in column['boxes']:\n",
    "        box.set(color='steelblue', linewidth=2)\n",
    "    \n",
    "    # Change properties of whiskers \n",
    "    for whisker in column['whiskers']:\n",
    "        whisker.set(color='gray', linewidth=2)\n",
    "\n",
    "    # Change properties of caps \n",
    "    for cap in column['caps']:\n",
    "        cap.set(color='gray', linewidth=2)\n",
    "\n",
    "    # Change properties of median \n",
    "    for cap in column['medians']:\n",
    "        cap.set(color='green', linewidth=2, alpha=0.5)\n",
    "\n",
    "    # Change properties of fliers (outliers) \n",
    "    for cap in column['fliers']:\n",
    "        cap.set(markerfacecolor='steelblue', linewidth=2, marker='s', markersize=6, alpha=0.5)\n",
    "\n",
    "# Set title and vertical axis label\n",
    "ax.set_title('Total Yearly Snowfall', fontsize=18)\n",
    "ax.set_ylabel(\"Snowfall (in inches)\", fontsize=16)\n",
    "\n",
    "# Set names of plots\n",
    "short_names = [\"1900-1909\", \"1910-1919\", \"1920-1929\", \"1930-1939\", \"1940-1949\", \"1950-1959\", \"1969-1969\", \"1970-1979\", \"1980-1989\", \"1990-1999\", \"2000-2009\", \"2010-2019\"]\n",
    "plt.xticks(range(1,len(short_names)+1),short_names, rotation=45, fontsize=16)\n",
    "\n",
    "# Get rid of automatically generated titles and xlables\n",
    "plt.suptitle(\"\")\n",
    "ax.set_xlabel(\"\")\n",
    "\n",
    "# Make grid-lines lighter\n",
    "ax.grid(alpha=0.25);\n"
   ]
  },
  {
   "cell_type": "markdown",
   "metadata": {},
   "source": []
  },
  {
   "cell_type": "markdown",
   "metadata": {},
   "source": [
    "\n",
    "**Part E:** It’s almost February, so let’s study snowfall in Boulder, in February. Compute the mean February snowfall using your cleaned data set. Next calculate the Tukey 5-number summary for the February snowfall data. Lastly, generate a boxplot for the February snowfall. "
   ]
  },
  {
   "cell_type": "code",
   "execution_count": 19,
   "metadata": {},
   "outputs": [
    {
     "name": "stdout",
     "output_type": "stream",
     "text": [
      "Mean February snowfall is 11.446341463414631 inches.\n",
      "5-Number Summary: 0.00    5.45    9.90    16.50    54.60\n"
     ]
    },
    {
     "data": {
      "image/png": "[encoded data removed]",
      "text/plain": [
       "<Figure size 432x432 with 1 Axes>"
      ]
     },
     "metadata": {
      "needs_background": "light"
     },
     "output_type": "display_data"
    }
   ],
   "source": [
    "print(\"Mean February snowfall is {} inches.\".format(df.loc[:,\"Feb\"].mean()))\n",
    "minval = df[\"Feb\"].min() # your code goes here!\n",
    "maxval = df[\"Feb\"].max() # ... and here\n",
    "Q1 = df[\"Feb\"].quantile(.25) # ... and here\n",
    "Q2 = df[\"Feb\"].quantile(.50) # ... and here\n",
    "Q3 = df[\"Feb\"].quantile(.75) # ... and here!\n",
    "print(\"5-Number Summary: {:.2f}    {:.2f}    {:.2f}    {:.2f}    {:.2f}\".format(minval, Q1, Q2, Q3, maxval))\n",
    "# Initialize figure \n",
    "fig, ax = plt.subplots(figsize=(6,6))\n",
    "\n",
    "# Plot histogram, but this time return dictionary of style parameters for modification after the fact \n",
    "bp = df.boxplot(column=\"Feb\", ax=ax, widths=[.2], return_type='dict');\n",
    "\n",
    "# ---------------------------------------\n",
    "# Set properties of various parts of plot \n",
    "# ---------------------------------------\n",
    "\n",
    "# Change properties of boxes \n",
    "for box in bp['boxes']:\n",
    "    box.set(color='steelblue', linewidth=2)\n",
    "    \n",
    "# Change properties of whiskers \n",
    "for whisker in bp['whiskers']:\n",
    "    whisker.set(color='gray', linewidth=2)\n",
    "    \n",
    "# Change properties of caps \n",
    "for cap in bp['caps']:\n",
    "    cap.set(color='gray', linewidth=2)\n",
    "    \n",
    "# Change properties of median \n",
    "for cap in bp['medians']:\n",
    "    cap.set(color='green', linewidth=2, alpha=0.5)\n",
    "    \n",
    "# Change properties of fliers (outliers) \n",
    "for flier in bp['fliers']:\n",
    "    flier.set(markerfacecolor='steelblue', linewidth=2, marker='s', markersize=6, alpha=0.5)\n",
    "\n",
    "# Set title and vertical axis label\n",
    "ax.set_title('February Snowfall', fontsize=18)\n",
    "ax.set_ylabel(\"Snowfall in February in Inches\", fontsize=16)\n",
    "\n",
    "# Make grid-lines lighter\n",
    "ax.grid(alpha=0.25)"
   ]
  },
  {
   "cell_type": "markdown",
   "metadata": {},
   "source": []
  },
  {
   "cell_type": "markdown",
   "metadata": {},
   "source": [
    "**Part F:** Plot all of the February snowfall with a line plot, using your cleaned data set. How many inches of snow do you predict we will get this February in Boulder? Once February is over, we’ll see who was the closest!"
   ]
  },
  {
   "cell_type": "code",
   "execution_count": 20,
   "metadata": {},
   "outputs": [
    {
     "data": {
      "image/png": "[encoded data removed]",
      "text/plain": [
       "<Figure size 432x288 with 1 Axes>"
      ]
     },
     "metadata": {
      "needs_background": "light"
     },
     "output_type": "display_data"
    }
   ],
   "source": [
    "df.plot.line(x=\"Year\", y=\"Feb\", title=\"Feb Snowfall\");\n",
    "plt.ylabel('Snowfall in Inches')\n",
    "plt.show(block=True);"
   ]
  },
  {
   "cell_type": "markdown",
   "metadata": {},
   "source": [
    "I predict that we will get 14 inches of snow in February."
   ]
  },
  {
   "cell_type": "markdown",
   "metadata": {},
   "source": [
    "[Back to top](#top)\n",
    "<a/ id='p5'></a>\n",
    "\n",
    "## (15 pts) Problem 5\n",
    "***\n",
    "Consider the following 3 data sets:\n",
    "\n",
    "`A=[8, 6, 7, 5, 3, 0, 9]`\n",
    "\n",
    "`B=[2, 29, 84, 2, 10, 69, 3, 31, 18]`\n",
    "\n",
    "`C` is the random data set generated by using `np.random.randint(0,1000, size=100)`\n",
    "\n",
    "For each data set, perform the following computations:\n",
    "\n",
    "**Part A:** Compute and print the mean and standard deviation of the data set. You may use built-in python functions."
   ]
  },
  {
   "cell_type": "code",
   "execution_count": 21,
   "metadata": {},
   "outputs": [
    {
     "name": "stdout",
     "output_type": "stream",
     "text": [
      "The mean for set A is: 5.428571428571429 with a standard deviation of: 2.8713930346059686\n",
      "The mean for set B is: 27.555555555555557 with a standard deviation of: 28.335729746151124\n",
      "The mean for set C is: 473.89 with a standard deviation of: 268.34067507554647\n"
     ]
    }
   ],
   "source": [
    "A = [8, 6, 7, 5, 3, 0, 9]\n",
    "B = [2, 29, 84, 2, 10, 69, 3, 31, 18]\n",
    "C = np.random.randint(0,1000, size=100)\n",
    "print(\"The mean for set A is: {} with a standard deviation of: {}\".format(np.mean(A), np.std(A)))\n",
    "print(\"The mean for set B is: {} with a standard deviation of: {}\".format(np.mean(B), np.std(B)))\n",
    "print(\"The mean for set C is: {} with a standard deviation of: {}\".format(np.mean(C), np.std(C)))"
   ]
  },
  {
   "cell_type": "markdown",
   "metadata": {},
   "source": [
    "**Part B:** Compute and print  the mean and standard deviation of the new data set formed by subtracting the original mean from each observation."
   ]
  },
  {
   "cell_type": "code",
   "execution_count": 22,
   "metadata": {},
   "outputs": [
    {
     "name": "stdout",
     "output_type": "stream",
     "text": [
      "The mean for set A is: -2.5376526277146434e-16 with a standard deviation of: 2.8713930346059686\n",
      "The mean for set B is: -1.578983857244667e-15 with a standard deviation of: 28.335729746151124\n",
      "The mean for set C is: 1.3642420526593923e-14 with a standard deviation of: 268.34067507554647\n"
     ]
    }
   ],
   "source": [
    "meanA = np.mean(A)\n",
    "meanB = np.mean(B)\n",
    "meanC = np.mean(C)\n",
    "tempA = []\n",
    "tempB = []\n",
    "tempC = []\n",
    "for item in A:\n",
    "    tempA.append(item - meanA)\n",
    "for item in B:\n",
    "    tempB.append(item - meanB)\n",
    "for item in C:\n",
    "    tempC.append(item - meanC)\n",
    "print(\"The mean for set A is: {} with a standard deviation of: {}\".format(np.mean(tempA), np.std(tempA)))\n",
    "print(\"The mean for set B is: {} with a standard deviation of: {}\".format(np.mean(tempB), np.std(tempB)))\n",
    "print(\"The mean for set C is: {} with a standard deviation of: {}\".format(np.mean(tempC), np.std(tempC)))"
   ]
  },
  {
   "cell_type": "markdown",
   "metadata": {},
   "source": [
    "**Part C:** Compute and print  the mean and standard deviation of the new data set formed by subtracting the original mean from each observation and then dividing by the original standard deviation."
   ]
  },
  {
   "cell_type": "code",
   "execution_count": 23,
   "metadata": {},
   "outputs": [
    {
     "name": "stdout",
     "output_type": "stream",
     "text": [
      "The mean for set A is: -6.344131569286608e-17 with a standard deviation of: 1.0\n",
      "The mean for set B is: -3.0839528461809905e-17 with a standard deviation of: 1.0\n",
      "The mean for set C is: 6.217248937900877e-17 with a standard deviation of: 0.9999999999999998\n"
     ]
    }
   ],
   "source": [
    "meanA = np.mean(A)\n",
    "meanB = np.mean(B)\n",
    "meanC = np.mean(C)\n",
    "stdA = np.std(A)\n",
    "stdB = np.std(B)\n",
    "stdC = np.std(C)\n",
    "tempA = []\n",
    "tempB = []\n",
    "tempC = []\n",
    "for item in A:\n",
    "    tempA.append((item - meanA) / stdA)\n",
    "for item in B:\n",
    "    tempB.append((item - meanB) / stdB)\n",
    "for item in C:\n",
    "    tempC.append((item - meanC) / stdC)\n",
    "print(\"The mean for set A is: {} with a standard deviation of: {}\".format(np.mean(tempA), np.std(tempA)))\n",
    "print(\"The mean for set B is: {} with a standard deviation of: {}\".format(np.mean(tempB), np.std(tempB)))\n",
    "print(\"The mean for set C is: {} with a standard deviation of: {}\".format(np.mean(tempC), np.std(tempC)))"
   ]
  },
  {
   "cell_type": "markdown",
   "metadata": {},
   "source": [
    "**Part D:** Why might this result matter?"
   ]
  },
  {
   "cell_type": "markdown",
   "metadata": {},
   "source": [
    "This result might matter because it shows that even when the values of the data set are manipulated by subtacting the same value from each observation, the standard deviation stays the same. It also shows that, when each observation has the same value subracted itself and is divided by the standard deviation, the result is 1."
   ]
  },
  {
   "cell_type": "code",
   "execution_count": null,
   "metadata": {},
   "outputs": [],
   "source": []
  }
 ],
 "metadata": {
  "kernelspec": {
   "display_name": "Python 3",
   "language": "python",
   "name": "python3"
  },
  "language_info": {
   "codemirror_mode": {
    "name": "ipython",
    "version": 3
   },
   "file_extension": ".py",
   "mimetype": "text/x-python",
   "name": "python",
   "nbconvert_exporter": "python",
   "pygments_lexer": "ipython3",
   "version": "3.7.4"
  }
 },
 "nbformat": 4,
 "nbformat_minor": 2
}
