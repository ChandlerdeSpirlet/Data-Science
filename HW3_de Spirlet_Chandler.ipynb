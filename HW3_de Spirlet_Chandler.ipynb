{
 "cells": [
  {
   "cell_type": "markdown",
   "metadata": {},
   "source": [
    "<a id='top'></a>\n",
    "\n",
    "# Homework 3: Normals and More Simulation\n",
    "***\n",
    "\n",
    "**Name**: **Chandler de Spirlet**\n",
    "\n",
    "***\n",
    "\n",
    "This assignment is due on Canvas by **11:59 PM on Friday March 13**. Your solutions to theoretical questions should be done in Markdown directly below the associated question.  Your solutions to computational questions should include any specified Python code and results as well as written commentary on your conclusions.  Remember that you are encouraged to discuss the problems with your classmates, but **you must write all code and solutions on your own**.\n",
    "\n",
    "**NOTES**: \n",
    "\n",
    "- Any relevant data sets should be available under the **Data** module on Canvas. To make life easier on the graders if they need to run your code, do not change the relative path names here. Instead, move the files around on your computer.\n",
    "- If you're not familiar with typesetting math directly into Markdown then by all means, do your work on paper first and then typeset it later.  Remember that there is a [reference guide](https://math.meta.stackexchange.com/questions/5020/mathjax-basic-tutorial-and-quick-reference) linked on Canvas on writing math in Markdown. **All** of your written commentary, justifications and mathematical work should be in Markdown.\n",
    "- Because you can technically evaluate notebook cells is a non-linear order, it's a good idea to do Kernel $\\rightarrow$ Restart & Run All as a check before submitting your solutions.  That way if we need to run your code you will know that it will work as expected. \n",
    "- It is **bad form** to make your reader interpret numerical output from your code.  If a question asks you to compute some value from the data you should show your code output **AND** write a summary of the results in Markdown directly below your code. \n",
    "- This probably goes without saying, but... For any question that asks you to calculate something, you **must show all work and justify your answers to receive credit**. Sparse or nonexistent work will receive sparse or nonexistent credit. \n",
    "\n",
    "---\n",
    "**Shortcuts:**  [Problem 1](#p1) | [Problem 2](#p2) | [Problem 3](#p3) | [Problem 4](#p4) | \n",
    "\n",
    "---"
   ]
  },
  {
   "cell_type": "code",
   "execution_count": 3,
   "metadata": {},
   "outputs": [],
   "source": [
    "import pandas as pd\n",
    "import numpy as np\n",
    "import math\n",
    "from scipy import stats\n",
    "import matplotlib.pylab as plt\n",
    "%matplotlib inline"
   ]
  },
  {
   "cell_type": "markdown",
   "metadata": {},
   "source": [
    "<br>\n",
    "\n",
    "---\n",
    "<a id='p1'></a>\n",
    "[Back to top](#top)\n",
    "\n",
    "<img src=\"https://media.daysoftheyear.com/20171223112636/hedgehog-day1.jpg\" style=\"width: 500px;\"/>\n",
    "\n",
    "\n",
    "### [25 points] Problem 1\n",
    "\n",
    "Suppose you are modeling the probability of observing various levels of cuteness in hedgehogs you encounter.  Let $X$ be a random variable representing the observed cuteness, which is *obviously* nonnegative and has units of deci*awws*. You decide to use the following pdf for $X$:\n",
    "\n",
    "$$\n",
    "f(x) = \\begin{cases}\n",
    "         k \\ x \\ e^{\\left(-\\frac{x^2}{8}\\right)} & 0 \\leq x < \\infty \\\\\n",
    "         0                           & \\text{otherwise}\n",
    "       \\end{cases}\n",
    "$$\n",
    "where $k$ is some normalizing constant.\n"
   ]
  },
  {
   "cell_type": "markdown",
   "metadata": {},
   "source": [
    "**Part A**: Determine the value of $k$ such that $f(x)$ is a valid probability density function. Compute this by hand. Then use Python to make a plot of the probability density function for hedgehog cuteness, $f(x)$. Be sure to label your plot and axes!"
   ]
  },
  {
   "cell_type": "markdown",
   "metadata": {},
   "source": [
    "$$\\int_{0}^{\\infty}kxe^{(-\\frac{x^2}{8})}dx$$\n",
    "$$u = -\\frac{x^2}{8} \\rightarrow \\frac{du}{dx} = -\\frac{x}{4} \\rightarrow dx = -\\frac{4}{x}du = -4k \\int_{0}^{\\infty}e^u du$$\n",
    "$$\\int_{0}^{\\infty}e^u du \\rightarrow \\int_{0}^{\\infty}a^u du = \\frac{a^u}{ln(a)} with a = e$$\n",
    "$$= e^u$$\n",
    "$$-4k \\int_{0}^{\\infty}e^u du = -4ke^u$$\n",
    "$$u = -\\frac{x^2}{8} \\rightarrow =4ke^{-\\frac{x^2}{8}}$$\n",
    "$$-4ke^{-\\frac{x^2}{8}} \\Big|_0^\\infty = 1$$ \n",
    "$$4k = 1$$\n",
    "**$$k = 0.25$$**"
   ]
  },
  {
   "cell_type": "code",
   "execution_count": 4,
   "metadata": {},
   "outputs": [
    {
     "data": {
      "text/plain": [
       "Text(0.5, 1.0, 'PDF of deciawws')"
      ]
     },
     "execution_count": 4,
     "metadata": {},
     "output_type": "execute_result"
    },
    {
     "data": {
      "image/png": "[encoded data removed]",
      "text/plain": [
       "<Figure size 432x288 with 1 Axes>"
      ]
     },
     "metadata": {
      "needs_background": "light"
     },
     "output_type": "display_data"
    }
   ],
   "source": [
    "#formula = 0.25 * 4 * math.exp((-x^2) / 8)\n",
    "y = []\n",
    "for x in range(-5, 100):\n",
    "    a = 0.25 * x * math.exp((-x ** 2) / 8)\n",
    "    if (x < 0):\n",
    "        a = 0\n",
    "    y.append(a)\n",
    "plt.plot(range(-5, 100),y)\n",
    "plt.xlabel('x value')\n",
    "plt.ylabel('x applied to f(x)')\n",
    "plt.title('PDF of deciawws')"
   ]
  },
  {
   "cell_type": "markdown",
   "metadata": {},
   "source": [
    "**Part B**: Compute *by hand* the cumulative density (cdf) function $F(x)$ for $X$ and provide the value of $F(2)$. You may use Python as a calculator, but make sure to set up the work by hand."
   ]
  },
  {
   "cell_type": "code",
   "execution_count": 6,
   "metadata": {},
   "outputs": [
    {
     "name": "stdout",
     "output_type": "stream",
     "text": [
      "f(1) = 0.8824969025845955\n",
      "f(2) = 0.6065306597126334\n"
     ]
    }
   ],
   "source": [
    "for x in range(1, 2 + 1):\n",
    "    a = 0.25 * 4 * math.exp((-x ** 2) / 8)\n",
    "    print(\"f({}) = {}\".format(x, a))"
   ]
  },
  {
   "cell_type": "markdown",
   "metadata": {},
   "source": [
    "$$F(2) = f(1) + f(2)$$\n",
    "$$F(2) = 0.882497 + 0.606531$$\n",
    "$$F(2) = 1.48903$$"
   ]
  },
  {
   "cell_type": "markdown",
   "metadata": {},
   "source": [
    "**Part C:**  Use the cdf you derived in **Part B** to calculate the median ($\\tilde{x}$) cuteness of all hedgehogs. You may use Python as a calculator, but make sure to set up the work by hand."
   ]
  },
  {
   "cell_type": "markdown",
   "metadata": {},
   "source": [
    "cdf = 0.5 is the median value"
   ]
  },
  {
   "cell_type": "markdown",
   "metadata": {},
   "source": [
    "**Part D**: It is a well-known fact that any hedgehog whose cuteness exceeds 3 deciawws is **totes adorbz**. Use the cdf you computed in **Part B** to find the probability that any arbitrary hedgehog that you observe is totes adorbz. You may use Python as a calculator, but make sure to set up the work by hand."
   ]
  },
  {
   "cell_type": "markdown",
   "metadata": {},
   "source": []
  },
  {
   "cell_type": "markdown",
   "metadata": {},
   "source": [
    "**Part E:** You have been painstakingly collecting data on hedgehogs all over town, and the cuteness is damn near overwhelming. Suppose you sample 7 hedgehogs, and the cuteness of any given hedgehog is independent of the cuteness of all other hedgehogs. What is the probability that at least 3 but not all of them are totes adorbz? You may use Python as a calculator, but make sure to set up the work by hand."
   ]
  },
  {
   "cell_type": "markdown",
   "metadata": {},
   "source": []
  },
  {
   "cell_type": "markdown",
   "metadata": {
    "ExecuteTime": {
     "end_time": "2020-02-06T18:30:03.478651Z",
     "start_time": "2020-02-06T18:30:03.473088Z"
    }
   },
   "source": [
    "<br>\n",
    "\n",
    "---\n",
    "<a id='p2'></a>\n",
    "[Back to top](#top)\n",
    "### [25 points] Problem 2 - Monte Carlo Estimation of Definite Integrals\n",
    "\n",
    "One really cool application of random variables is using them to approximate integrals/area under a curve.  This method of approximating integrals is used frequently in computational science to approximate really difficult integrals that we never want to do by hand.  In this exercise you'll figure out how we can do this in practice and test your method on a relatively simple integral. "
   ]
  },
  {
   "cell_type": "markdown",
   "metadata": {},
   "source": [
    "**Part A.**  Let $X$ be a random variable representing how delicious a pie you bake is, as measured by the **Deliciousness Index** (DI).  Suppose the probability density function for $X$ is described by the raised sine probability density function:\n",
    "\n",
    "$$\n",
    "f(x) = \\begin{cases}\n",
    "         \\dfrac{1}{2\\pi}\\left(\\sin{(x)} + 1\\right) & 0 \\leq x \\leq 2\\pi \\\\\n",
    "         0                           & \\text{otherwise}\n",
    "         \\end{cases}\n",
    "$$\n",
    "\n",
    "A Deliciousness Index of $2\\pi$ is the most delicious pie you can ever hope to create, and a DI of $0$ is the most disgusting pie you have ever tasted.  \n",
    "\n",
    "Compute **by hand**, the integral of $f(x)$ for $0 \\leq x \\leq \\pi$.  Write a sentence or two to interpret your result physically, in the context of this problem set-up."
   ]
  },
  {
   "cell_type": "markdown",
   "metadata": {},
   "source": [
    "$$\\int_{0}^{\\pi}\\frac{\\sin(x) + 1}{2\\pi}dx = $$\n",
    "$$\\frac{1}{2\\pi}\\int_{0}^{\\pi}(\\sin(0) + 1) dx + \\frac{1}{2\\pi}\\int_{0}^{\\pi}1dx = $$\n",
    "$$= \\frac{x - \\cos(x)}{2\\pi}\\Big|_0^\\pi$$\n",
    "$$= \\frac{pi - \\cos(\\pi)}{2\\pi} - \\frac{0 - \\cos(0)}{2\\pi} = \\frac{\\pi + 2}{2\\pi}$$\n"
   ]
  },
  {
   "cell_type": "markdown",
   "metadata": {},
   "source": [
    "The result, with respect to this problem, shows that the deliciousness index is a derivative of the equation above. On the result $f(0 \\leq x \\leq \\pi)$, the resulting value shows by how much the DI increases."
   ]
  },
  {
   "cell_type": "markdown",
   "metadata": {},
   "source": [
    "**Part B.** Suppose we sample a random variable $X$ from $U(0,\\pi)$ and another random variable $Y$ from $U(0,1)$ and think of them as $x$- and $y$-coordinates of a point in the box $[0,\\pi] \\times [0,1]$.  If we compute the ratio of points that fall under the curve $f(x)$ to the total points sampled, what does this value estimate? "
   ]
  },
  {
   "cell_type": "markdown",
   "metadata": {},
   "source": [
    "This ratio of points that fall under the curve to the total points sampled shows the ratio of pis that have a DI in the range of 0 to $\\pi$ compared to all other pis sampled."
   ]
  },
  {
   "cell_type": "markdown",
   "metadata": {},
   "source": [
    "**Part C.** How could we modify the process outlined in **Part B** so that our estimator estimates the value of the desired integral?  If you need inspiration, check out the in-class notebook on Stochastic Simulation (#4), specifically, the exercise where we estimated $\\pi$!"
   ]
  },
  {
   "cell_type": "markdown",
   "metadata": {},
   "source": [
    "We could plug values into the function above in **Part A**. We could then check to see if the resulting value is in the range of 0 to $\\pi$. We then run a large sample of random simulations and will get, ideally, the answer to **Part B**."
   ]
  },
  {
   "cell_type": "markdown",
   "metadata": {},
   "source": [
    "**Part D.** Complete the function `integrate` below to compute an approximation to the definition integral $\\int_0^{\\text{ub}} f(x)dx$.  Your function should take as arguments:\n",
    "1. `num_samples` -- the number of points to sample,\n",
    "2. `ub` -- a number between $0$ and $2\\pi$ that is the upper bound of the integral, and\n",
    "3. `isPlot` -- a Boolean flag for whether or not to display a plot of the results.\n",
    "\n",
    "Your function should return an approximation of the definite integral by sampling $X$ from $U(0,\\text{ub})$ and $Y$ from $U(0,1)$. For each random draw $(X,Y)$, define the random variable $Z$ that represents whether or not the sampled $Y$ value is less than $f(X)$ for the corresponding $X$ value.\n",
    "\n",
    "Your function should perform three tasks: \n",
    "\n",
    "1. return the estimate of the value of the integral,\n",
    "2. return the sample variance of the random variable $Z$ being simulated, using the np.var function, and\n",
    "3. if `isPlot` is True, plot the curve $f(x)$ as well as the location of the points $(X,Y)$, colored according to whether they fall above or below the curve. "
   ]
  },
  {
   "cell_type": "code",
   "execution_count": 31,
   "metadata": {},
   "outputs": [
    {
     "name": "stdout",
     "output_type": "stream",
     "text": [
      "Estimate of integral from (0, 3.141592653589793) is 0.0\n"
     ]
    }
   ],
   "source": [
    "def in_area(x, y, ub):\n",
    "    in_graph_x = ((math.sin(0) + 1) / 2 * np.pi) <= x <= ((math.sin(ub) + 1) / 2 * np.pi)\n",
    "    #print('with x as {}, sin(x) + 1 / 2pi = {} <= x <= {}'.format(x, ((math.sin(x) + 1) / 2 * np.pi), ((math.sin(ub) + 1) / 2 * np.pi)))\n",
    "    if (in_graph_x):\n",
    "        in_graph_y = 0 <= y <= 1\n",
    "        return in_graph_x and in_graph_y\n",
    "    else:\n",
    "        return in_graph_x\n",
    "\n",
    "def get_vals(num_samples, ub):\n",
    "    in_graph = 0\n",
    "    for i in range(num_samples):\n",
    "        x = np.random.uniform(low = 0, high = (2 * np.pi), size = 1)\n",
    "        y = np.random.uniform(low = 0, high = 1, size = 1)\n",
    "        #print('x = {}'.format(x))\n",
    "        #print('y = {}'.format(y))\n",
    "        in_graph += 1 if in_area(x, y, ub) else 0\n",
    "    return in_graph / num_samples\n",
    "\n",
    "def integrate(num_samples, ub, isPlot):\n",
    "    if (isPlot):\n",
    "        eq = [((math.sin(x) + 1) / 2 * np.pi) for x in range(0, 7)]\n",
    "        estimate = [get_vals(num_samples, ub) for n in range(1, num_samples + 1)]\n",
    "        fig, ax = plt.subplots(figsize=(12,6))\n",
    "        ax.plot(estimate, color=\"red\")\n",
    "        ax.plot(eq, color=\"blue\")\n",
    "    else:\n",
    "        estimate = [get_vals(num_samples, ub) for n in range(1, num_samples + 1)]\n",
    "        print(\"Estimate of integral from (0, {}) is {}\".format(ub, (sum(estimate) / num_samples)))\n",
    "integrate(10, (np.pi), False)\n"
   ]
  },
  {
   "cell_type": "markdown",
   "metadata": {},
   "source": []
  },
  {
   "cell_type": "markdown",
   "metadata": {},
   "source": [
    "**Part E.** Write your own small unit tests!\n",
    "\n",
    "First, what should your `integrate` function output if you plug in `ub=0`? Set that as `int_0_to_0` below.\n",
    "\n",
    "Second, what should your `integrate` function output if you plug in `ub=`$2\\pi$? Set that as `int_0_to_2pi` below.\n",
    "\n",
    "Then, you can execute the cell below to run two sanity checks. Write out **in math** (like, a definite integral) what each of these two tests is checking and **why** that is a reasonable sanity check.\n",
    "\n",
    "If these two assertions run without fail, then things seem to be working okay. Note that the upper endpoint test is stochastic, so if it fails, try running it a few times. If it fails a lot, then things are probably going wrong."
   ]
  },
  {
   "cell_type": "code",
   "execution_count": null,
   "metadata": {
    "ExecuteTime": {
     "end_time": "2020-02-06T19:35:28.502227Z",
     "start_time": "2020-02-06T19:35:28.495603Z"
    }
   },
   "outputs": [],
   "source": [
    "\n",
    "\n",
    "int_0_to_0  = # fill this in!\n",
    "int_0_to_2pi = # this one too!\n",
    "\n",
    "\n",
    "#---------------------------------------\n",
    "# DO NOT EDIT THIS CELL BELOW HERE\n",
    "#---------------------------------------\n",
    "assert integrate(1000, 0, False)[0] == int_0_to_0, \"Error: lower endpoint test failing\"\n",
    "assert math.isclose(integrate(10000, 2 * np.pi, False)[0], int_0_to_2pi, abs_tol=0.03), \"Error: upper endpoint test failing\""
   ]
  },
  {
   "cell_type": "markdown",
   "metadata": {},
   "source": []
  },
  {
   "cell_type": "markdown",
   "metadata": {
    "ExecuteTime": {
     "end_time": "2020-02-06T19:16:58.784727Z",
     "start_time": "2020-02-06T19:16:58.777445Z"
    }
   },
   "source": [
    "**Part F.** Run your simulation with `isPlot=True` and `ub=`$\\pi$ for 1,000 samples so we can see your plot. Then, run your simulation (with `isPlot=False`) with at least 10,000 samples and estimate the value of the given integral. Be sure to leave your cells evaluated for the graders! Does your estimate agree with the exact value of the integral you computed in **Part A**? "
   ]
  },
  {
   "cell_type": "code",
   "execution_count": null,
   "metadata": {},
   "outputs": [],
   "source": []
  },
  {
   "cell_type": "markdown",
   "metadata": {
    "collapsed": true
   },
   "source": [
    "<br>\n",
    "\n",
    "---\n",
    "<a id='p3'></a>\n",
    "[Back to top](#top)\n",
    "### [25 points] Problem 3 - Mmmm... Donuts...\n",
    "\n",
    "<img src=\"http://astrokentico.s3.amazonaws.com/rojakdaily/media/1nichoras/homer%20simpson%20krispy%20kreme/main.jpg?ext=.jpg\" style=\"width:300px;\"/>\n",
    "\n",
    "You bring many donuts to work to share with your coworkers at the Boulder Nuclear Power Planet. But due to the high levels of radiation there, they must be inspected for safety. In particular, if the mean level of radiation in a sample from your batch of donuts is above [190 mSv (millisievert)](https://en.wikipedia.org/wiki/Sievert), then they are deemed unsafe and you must throw the whole batch away.\n",
    "\n",
    "You know that historically donuts at the power plant have, on average, 178 mSv of radiation, with a standard deviation of 65 mSv. For the test (to see if the donuts must be thrown away) you take the donut receipt and pick every fifth donut off it, and sample the radiation levels of those donuts. Assume you bought 245 donuts. "
   ]
  },
  {
   "cell_type": "markdown",
   "metadata": {},
   "source": [
    "**Part A:** What type of sample is this? What is the sample and what is the size of it? What is the sample space?"
   ]
  },
  {
   "cell_type": "markdown",
   "metadata": {},
   "source": [
    "$\\text{This is systematic sampling, meaning that you are sampling every 5th donut.} $\n",
    "$\\text{The sample is the selected donuts. The sample size is 49 (245 / 5).}$\n",
    "$\\text{The sample space is every donut in the box.}$"
   ]
  },
  {
   "cell_type": "markdown",
   "metadata": {},
   "source": [
    "**Part B:** What is the probability that a donut batch is deemed unsafe?  You should at the very least set up and justify your calculation by hand (in Markdown/Mathjax), before executing any calculations in Python. But feel free to use python to actually do the calculations. You ***should*** use Python to retrieve critical values of a standard normal random variable (using a Z chart is so old school!). "
   ]
  },
  {
   "cell_type": "markdown",
   "metadata": {},
   "source": [
    "$\\text{Using the CLT:}$\n",
    "$$ $$\n",
    "$\\text{By the CLT: } \\bar{x} \\text{ ~ } N(\\mu = 178, \\sigma^2 = (\\frac{65^2}{49})$\n",
    "$$p(\\bar{x} > 190) = 1 - p(0 \\leq \\bar{x} \\leq 190)$$\n",
    "$$p(\\frac{0 - 178}{\\frac{65^2}{49}} \\leq \\frac{\\bar{x} - 178}{\\frac{65^2}{49}} \\leq \\frac{190 - 178}{\\frac{65^2}{49}})$$\n",
    "$$p(\\frac{-8722}{4225} \\leq Z \\leq \\frac{588}{4225}) = p(-2.064 \\leq Z \\leq 0.1392)$$\n",
    "$$p(\\text{unsafe}) = 1 - p(0 \\leq \\bar{x} \\leq 190) = 0.46415$$"
   ]
  },
  {
   "cell_type": "code",
   "execution_count": 32,
   "metadata": {},
   "outputs": [
    {
     "name": "stdout",
     "output_type": "stream",
     "text": [
      "1 - p(-2.064 <= Z <= 0.1392) = 0.46414818821503423\n"
     ]
    }
   ],
   "source": [
    "prob = stats.norm.cdf(588 / 4225) - stats.norm.cdf(-8722 / 4225)\n",
    "print(\"1 - p(-2.064 <= Z <= 0.1392) = {}\".format(1 - prob))"
   ]
  },
  {
   "cell_type": "markdown",
   "metadata": {},
   "source": [
    "**Part B.** Yikes! Seems like those donuts might be dangerous, but you really do not want to throw away donuts that frequently, so you propose to store the donuts in a lead-lined donut box. But lead also is not very good for your health, so you are motivated to use the least amount of lead possible. What is the maximum mean amount of radiation $\\mu$ for our donuts to have such that the probability that we will throw donuts out due to safety concerns is at most 0.02?\n",
    "\n",
    "Calculate this **by hand**, using Python only to perform arithmetic operations and compute critical values of a standard normal random variable."
   ]
  },
  {
   "cell_type": "markdown",
   "metadata": {},
   "source": []
  },
  {
   "cell_type": "code",
   "execution_count": null,
   "metadata": {},
   "outputs": [],
   "source": []
  },
  {
   "cell_type": "markdown",
   "metadata": {},
   "source": [
    "**Part C.**  Your supervisor at the plant decides that serving up donuts in a lead-lined box is a bad idea. Fair enough.\n",
    "\n",
    "But she is still imposing the requirement that the probability of a batch of donuts being rejected must be less than 0.02. However, she knows a different bakery that might be the solution. At Johnny's Super Consistent Baked Goods Emporium all the donuts are exactly the same in size, which means they are closer to being exactly the same in radiation content (less deviation). Suppose the mean and sample size remain unchanged. What is the largest standard deviation to satisfy this requirement?\n",
    "\n",
    "Calculate this **by hand**, using Python only to perform arithmetic operations and compute critical values of a standard normal random variable."
   ]
  },
  {
   "cell_type": "markdown",
   "metadata": {},
   "source": []
  },
  {
   "cell_type": "code",
   "execution_count": null,
   "metadata": {},
   "outputs": [],
   "source": []
  },
  {
   "cell_type": "markdown",
   "metadata": {},
   "source": [
    "**Part D:** Since donuts of differant diameters absorb differant amounts of radiation it is easy to model the standard deviation of radiation content in terms of the standard deviation in donut size. Assume the function $RD$ below takes in the standard deviation in millimeters of donut diameter $(\\sigma_d)$, and gives the radiation deviation in mSv.\n",
    "\n",
    "$\\begin{align}\n",
    "    RD(\\sigma_d) = \\frac{5^{\\sigma_d} \\times 1mSv}{6mm}\n",
    "\\end{align}$\n",
    "\n",
    "Johnny's bakes according to the following $\\textit{\"mathmatically\"}$ correct donut size:\n",
    "\n",
    "<img src=\"http://www.conquermaths.com/news/images/decinfo.jpg\" style=\"width:300px;\"/>\n",
    "\n",
    "So they strive for a donut diameter of 72 - 82 mm, with less than 5mm of standard deviation. However, we're not taking their word for it. We've taken a sample of ***36*** donuts from Johnny's to determine if their low standard deviation satisfies our requirement of less than $0.02$ chance that we throw away our donuts. The observed standard deviation in donut size was 2.8mm. Assume that the mean radiation remains unchanged from the other donuts. Do Johnny's donuts satisfy our requirement of less than $0.02$ chance that we throw them away? As per above, set up your equation in Markdown, then use python as a calculator / to retrieve standard normal values. "
   ]
  },
  {
   "cell_type": "markdown",
   "metadata": {},
   "source": []
  },
  {
   "cell_type": "code",
   "execution_count": null,
   "metadata": {},
   "outputs": [],
   "source": []
  },
  {
   "cell_type": "markdown",
   "metadata": {
    "collapsed": true
   },
   "source": [
    "**Part E.** Can you think of any potential issues with using a normal distribution to model the radiation content of our donuts? Think about a really wide standard deviation, and a way smaller mean (say $\\mu = 2$). "
   ]
  },
  {
   "cell_type": "markdown",
   "metadata": {},
   "source": []
  },
  {
   "cell_type": "markdown",
   "metadata": {},
   "source": [
    "<br>\n",
    "\n",
    "---\n",
    "<a id='p4'></a>\n",
    "[Back to top](#top)\n",
    "\n",
    "##  [25 points] Problem 4 - CDF Inversion Sampling\n",
    "\n",
    "In notebook 12, we looked at one method many pieces of statistical software use to turn pseudorandom numbers coming from the $U(0,1)$ distribution into those with a normal distribution.  In this problem we examine another such method.\n",
    "\n",
    "**Part A:** Simulating an Exponential\n",
    "\n",
    "i ) The exponential distribution has pdf $f(x)= \\lambda e^{-\\lambda x}$ for $x\\ge 0$.  Use the following markdown cell to compute by hand the cdf of the exponential."
   ]
  },
  {
   "cell_type": "markdown",
   "metadata": {},
   "source": []
  },
  {
   "cell_type": "markdown",
   "metadata": {},
   "source": [
    "ii) The cdf is a function that takes x-values(or times, in the case of the exponential) and returns probabilities as the y-values.  Specifically, it returns the probability of a random variable X being less than or equal to some x value($P(X \\leq x)$).  Find the *inverse* of this function, that takes the probability as the the input and returns times(x-values)."
   ]
  },
  {
   "cell_type": "markdown",
   "metadata": {},
   "source": []
  },
  {
   "cell_type": "markdown",
   "metadata": {},
   "source": [
    "iii) Simulate 1000 random $U(0,1)$ variables.  Since these are numbers in $[0,1]$, we could think of them as random *probabilities*.  Plug these *probabilities* into the function you found in part ii), then plot a histogram of the results.  Overlay the theoretical density of the exponential.  For each of these, use $\\lambda=1/8$."
   ]
  },
  {
   "cell_type": "code",
   "execution_count": null,
   "metadata": {},
   "outputs": [],
   "source": []
  },
  {
   "cell_type": "markdown",
   "metadata": {},
   "source": [
    "**Part B:** Simulating a new distribution\n",
    "\n",
    "i) Consider a continuous random variable X given by $f(x)=\\frac{\\cos(x)}{2}$ for $x \\in [\\frac{-\\pi}{2}, \\frac{\\pi}{2}]$.  Find the cdf and inverse cdf of X."
   ]
  },
  {
   "cell_type": "markdown",
   "metadata": {},
   "source": []
  },
  {
   "cell_type": "markdown",
   "metadata": {},
   "source": [
    "ii) Simulate draws from X by simluating 1000 $U[0,1]$ random variables, use them as random *probabilities* and plug them into the inverse cdf you just found.  As in part a), plot a histogram of the random variables(x) derived from the inverse cdf against their density function."
   ]
  },
  {
   "cell_type": "code",
   "execution_count": null,
   "metadata": {},
   "outputs": [],
   "source": []
  },
  {
   "cell_type": "markdown",
   "metadata": {},
   "source": [
    "**Part C:** Generalizing\n",
    "\n",
    "Describe in words how this process might work on a discrete random variable.  You may use the Bernoulli as an example, if you wish."
   ]
  },
  {
   "cell_type": "markdown",
   "metadata": {},
   "source": []
  },
  {
   "cell_type": "code",
   "execution_count": null,
   "metadata": {},
   "outputs": [],
   "source": []
  }
 ],
 "metadata": {
  "kernelspec": {
   "display_name": "Python 3",
   "language": "python",
   "name": "python3"
  },
  "language_info": {
   "codemirror_mode": {
    "name": "ipython",
    "version": 3
   },
   "file_extension": ".py",
   "mimetype": "text/x-python",
   "name": "python",
   "nbconvert_exporter": "python",
   "pygments_lexer": "ipython3",
   "version": "3.7.4"
  }
 },
 "nbformat": 4,
 "nbformat_minor": 2
}
